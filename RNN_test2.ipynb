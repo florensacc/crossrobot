{
 "cells": [
  {
   "cell_type": "code",
   "execution_count": 1,
   "metadata": {
    "collapsed": true
   },
   "outputs": [],
   "source": [
    "%matplotlib inline\n",
    "import numpy as np\n",
    "import theano\n",
    "import theano.tensor as T\n",
    "import operator\n",
    "import matplotlib.pyplot as plt\n",
    "import timeit\n",
    "import cPickle as pickle\n",
    "\n",
    "import cartpole_lib as cp"
   ]
  },
  {
   "cell_type": "code",
   "execution_count": 2,
   "metadata": {
    "collapsed": false
   },
   "outputs": [
    {
     "name": "stdout",
     "output_type": "stream",
     "text": [
      "/Users/jtobin/Documents/Courses/Robotics/FinalProject/crossrobot/theano-rnn\n",
      "/Users/jtobin/Documents/Courses/Robotics/FinalProject/crossrobot\n"
     ]
    }
   ],
   "source": [
    "%cd theano-rnn/\n",
    "import rnn_minibatch as rnn\n",
    "%cd .."
   ]
  },
  {
   "cell_type": "code",
   "execution_count": 3,
   "metadata": {
    "collapsed": false
   },
   "outputs": [],
   "source": [
    "dt, eps = 0.1, 0.1\n",
    "Q = np.eye(6)\n",
    "R = np.eye(1)\n",
    "\n",
    "uref = 0.\n",
    "K = []\n",
    "xs = []\n",
    "Quu = []\n",
    "for i in np.arange(5,21,1):\n",
    "    xref = np.array([0,np.pi,0,0,i,i/10.])\n",
    "    A, B, c = cp.linearize_cartpole_ext(xref, uref, dt, eps)\n",
    "    Kc, P, Quuc = cp.lqr_infinite_horizon(A, B, Q, R)\n",
    "    K.append(Kc)\n",
    "    K.append(Kc)\n",
    "    Quu.append(Quuc)\n",
    "    Quu.append(Quuc)\n",
    "    xs.append(np.array([0, np.pi-np.pi/4, 0, 0, i, i/10.]))\n",
    "    xs.append(np.array([0, np.pi+np.pi/4, 0, 0, i, i/10.]))\n",
    "\n",
    "\n",
    "tr_x, tr_u, val_x, val_u, te_x, te_u = cp.gen_train_data(xs, K, Quu,\n",
    "                                                         num_traj=10, traj_size=500)"
   ]
  },
  {
   "cell_type": "code",
   "execution_count": 4,
   "metadata": {
    "collapsed": false
   },
   "outputs": [],
   "source": [
    "n_hidden = 50\n",
    "n_in = 5\n",
    "n_out = 2\n",
    "n_steps = 20\n",
    "n_seq = 10 # per batch\n",
    "n_batches = int(np.floor(tr_x.shape[0] / (n_steps*n_seq)))\n",
    "\n",
    "input_data = np.c_[tr_x[:,:4], tr_u]\n",
    "target = tr_x[:,4:]\n",
    "\n",
    "def shuffle_data(in_data, target_data):\n",
    "    a = np.swapaxes(np.c_[in_data, target_data],0,1)\n",
    "    np.random.shuffle(a)\n",
    "    a = np.swapaxes(a, 0, 1)\n",
    "    return a[:,:,:n_in], a[:,:,n_in:]\n",
    "\n",
    "seq = np.zeros([n_steps, n_seq*n_batches, n_in])\n",
    "for i in range(n_seq*n_batches):\n",
    "    seq[:,i,:] = input_data[i*n_steps:(i+1)*n_steps,:]\n",
    "    \n",
    "targets = np.zeros([n_steps, n_seq*n_batches, n_out])\n",
    "for i in range(n_seq*n_batches):\n",
    "    targets[:,i,:] = target[i*n_steps:(i+1)*n_steps,:]\n",
    "\n",
    "seq, targets = shuffle_data(seq, targets)\n"
   ]
  },
  {
   "cell_type": "code",
   "execution_count": 11,
   "metadata": {
    "collapsed": true
   },
   "outputs": [],
   "source": [
    "model = rnn.MetaRNN(n_in=n_in, n_hidden=n_hidden, n_out=n_out,\n",
    "                    learning_rate=0.005, learning_rate_decay=1.,\n",
    "                    n_epochs=500, batch_size=n_seq, activation='relu',\n",
    "                    L2_reg=0.00001)"
   ]
  },
  {
   "cell_type": "code",
   "execution_count": 12,
   "metadata": {
    "collapsed": false
   },
   "outputs": [
    {
     "name": "stdout",
     "output_type": "stream",
     "text": [
      "... training\n",
      "epoch 10, mb 800/800, train loss 4.416298 lr: 0.005000\n",
      "epoch 20, mb 800/800, train loss 2.410172 lr: 0.005000\n",
      "epoch 30, mb 800/800, train loss 2.893909 lr: 0.005000\n",
      "epoch 40, mb 800/800, train loss 1.739475 lr: 0.005000\n",
      "epoch 50, mb 800/800, train loss 1.346695 lr: 0.005000\n",
      "epoch 60, mb 800/800, train loss 2.579620 lr: 0.005000\n",
      "epoch 70, mb 800/800, train loss 2.105947 lr: 0.005000\n",
      "epoch 80, mb 800/800, train loss 1.574520 lr: 0.005000\n",
      "epoch 90, mb 800/800, train loss 1.555827 lr: 0.005000\n",
      "epoch 100, mb 800/800, train loss 1.420470 lr: 0.005000\n",
      "epoch 110, mb 800/800, train loss 1.704239 lr: 0.005000\n",
      "epoch 120, mb 800/800, train loss 1.741914 lr: 0.005000\n",
      "epoch 130, mb 800/800, train loss 1.372703 lr: 0.005000\n",
      "epoch 140, mb 800/800, train loss 1.525913 lr: 0.005000\n",
      "epoch 150, mb 800/800, train loss 1.145386 lr: 0.005000\n",
      "epoch 160, mb 800/800, train loss 1.525811 lr: 0.005000\n",
      "epoch 170, mb 800/800, train loss 1.342861 lr: 0.005000\n",
      "epoch 180, mb 800/800, train loss 1.949643 lr: 0.005000\n",
      "epoch 190, mb 800/800, train loss 1.737716 lr: 0.005000\n",
      "epoch 200, mb 800/800, train loss 1.185271 lr: 0.005000\n",
      "epoch 210, mb 800/800, train loss 1.514759 lr: 0.005000\n",
      "epoch 220, mb 800/800, train loss 1.424625 lr: 0.005000\n",
      "epoch 230, mb 800/800, train loss 1.619988 lr: 0.005000\n",
      "epoch 240, mb 800/800, train loss 1.408313 lr: 0.005000\n",
      "epoch 250, mb 800/800, train loss 1.465139 lr: 0.005000\n",
      "epoch 260, mb 800/800, train loss 1.467187 lr: 0.005000\n",
      "epoch 270, mb 800/800, train loss 1.331218 lr: 0.005000\n",
      "epoch 280, mb 800/800, train loss 1.279003 lr: 0.005000\n",
      "epoch 290, mb 800/800, train loss 1.368137 lr: 0.005000\n",
      "epoch 300, mb 800/800, train loss 1.465021 lr: 0.005000\n",
      "epoch 310, mb 800/800, train loss 1.156927 lr: 0.005000\n",
      "epoch 320, mb 800/800, train loss 1.265871 lr: 0.005000\n",
      "epoch 330, mb 800/800, train loss 1.166623 lr: 0.005000\n",
      "epoch 340, mb 800/800, train loss 1.251678 lr: 0.005000\n",
      "epoch 350, mb 800/800, train loss 1.238855 lr: 0.005000\n",
      "epoch 360, mb 800/800, train loss 1.158393 lr: 0.005000\n",
      "epoch 370, mb 800/800, train loss 1.121649 lr: 0.005000\n",
      "epoch 380, mb 800/800, train loss 0.996491 lr: 0.005000\n",
      "epoch 390, mb 800/800, train loss 1.154872 lr: 0.005000\n",
      "epoch 400, mb 800/800, train loss 1.044396 lr: 0.005000\n",
      "epoch 410, mb 800/800, train loss 1.313709 lr: 0.005000\n",
      "epoch 420, mb 800/800, train loss 1.350981 lr: 0.005000\n",
      "epoch 430, mb 800/800, train loss 1.003346 lr: 0.005000\n",
      "epoch 440, mb 800/800, train loss 1.227259 lr: 0.005000\n",
      "epoch 450, mb 800/800, train loss 1.163902 lr: 0.005000\n",
      "epoch 460, mb 800/800, train loss 1.170978 lr: 0.005000\n",
      "epoch 470, mb 800/800, train loss 1.260092 lr: 0.005000\n",
      "epoch 480, mb 800/800, train loss 1.186239 lr: 0.005000\n",
      "epoch 490, mb 800/800, train loss 1.259301 lr: 0.005000\n",
      "epoch 500, mb 800/800, train loss 1.124385 lr: 0.005000\n"
     ]
    }
   ],
   "source": [
    "model.fit(seq, targets, validate_every=10, optimizer='rmsprop')"
   ]
  },
  {
   "cell_type": "code",
   "execution_count": 13,
   "metadata": {
    "collapsed": false
   },
   "outputs": [
    {
     "data": {
      "text/plain": [
       "<matplotlib.text.Text at 0x116b40b90>"
      ]
     },
     "execution_count": 13,
     "metadata": {},
     "output_type": "execute_result"
    },
    {
     "data": {
      "image/png": "[encoded data removed]",
      "text/plain": [
       "<matplotlib.figure.Figure at 0x115d0d110>"
      ]
     },
     "metadata": {},
     "output_type": "display_data"
    }
   ],
   "source": [
    "plt.figure(figsize=(10,7))\n",
    "plt.plot(targets[:,173,:], label='True parameters')\n",
    "guess = model.predict(seq[:,173, :][:, np.newaxis, :])\n",
    "guessed_targets = plt.plot(guess.squeeze(), linestyle='--')\n",
    "plt.title('solid: true output, dashed: model output')"
   ]
  },
  {
   "cell_type": "code",
   "execution_count": 14,
   "metadata": {
    "collapsed": false
   },
   "outputs": [
    {
     "data": {
      "text/plain": [
       "array([[ 15.93528839,   0.90677095]])"
      ]
     },
     "execution_count": 14,
     "metadata": {},
     "output_type": "execute_result"
    }
   ],
   "source": [
    "model.predict(seq[1:,55, :][:, np.newaxis, :]).mean(axis=0)"
   ]
  },
  {
   "cell_type": "code",
   "execution_count": 15,
   "metadata": {
    "collapsed": false
   },
   "outputs": [],
   "source": [
    "err = model.predict(seq).mean(axis=0) - targets.mean(axis=0)"
   ]
  },
  {
   "cell_type": "code",
   "execution_count": 26,
   "metadata": {
    "collapsed": false
   },
   "outputs": [
    {
     "data": {
      "text/plain": [
       "(array([-0.09933263, -0.03915922]), array([ 0.6267503 ,  0.11091936]))"
      ]
     },
     "execution_count": 26,
     "metadata": {},
     "output_type": "execute_result"
    }
   ],
   "source": [
    "err.mean(axis=0), err.std(axis=0)"
   ]
  },
  {
   "cell_type": "code",
   "execution_count": 22,
   "metadata": {
    "collapsed": false
   },
   "outputs": [],
   "source": [
    "err2 = model.predict(seq)[-1,:,:] - targets.mean(axis=0)"
   ]
  },
  {
   "cell_type": "code",
   "execution_count": 25,
   "metadata": {
    "collapsed": false
   },
   "outputs": [
    {
     "data": {
      "text/plain": [
       "(array([-0.03389264, -0.01350137]), array([ 0.65085631,  0.07800258]))"
      ]
     },
     "execution_count": 25,
     "metadata": {},
     "output_type": "execute_result"
    }
   ],
   "source": [
    "err2.mean(axis=0), err2.std(axis=0)"
   ]
  },
  {
   "cell_type": "code",
   "execution_count": 18,
   "metadata": {
    "collapsed": false
   },
   "outputs": [],
   "source": [
    "with open('mass_estimator.pickle','wb') as output_file:\n",
    "    pickle.dump(model, output_file)"
   ]
  },
  {
   "cell_type": "code",
   "execution_count": 136,
   "metadata": {
    "collapsed": false
   },
   "outputs": [
    {
     "ename": "TypeError",
     "evalue": "__init__() takes at least 5 arguments (1 given)",
     "output_type": "error",
     "traceback": [
      "\u001b[0;31m---------------------------------------------------------------------------\u001b[0m",
      "\u001b[0;31mTypeError\u001b[0m                                 Traceback (most recent call last)",
      "\u001b[0;32m<ipython-input-136-3771f5dc4884>\u001b[0m in \u001b[0;36m<module>\u001b[0;34m()\u001b[0m\n\u001b[0;32m----> 1\u001b[0;31m \u001b[0mrnn_test\u001b[0m \u001b[0;34m=\u001b[0m \u001b[0mrnn\u001b[0m\u001b[0;34m.\u001b[0m\u001b[0mRNN\u001b[0m\u001b[0;34m(\u001b[0m\u001b[0;34m)\u001b[0m\u001b[0;34m\u001b[0m\u001b[0m\n\u001b[0m",
      "\u001b[0;31mTypeError\u001b[0m: __init__() takes at least 5 arguments (1 given)"
     ]
    }
   ],
   "source": [
    "rnn_test = rnn.RNN()"
   ]
  },
  {
   "cell_type": "code",
   "execution_count": null,
   "metadata": {
    "collapsed": true
   },
   "outputs": [],
   "source": [
    "rnn_test = rnn.RNN"
   ]
  },
  {
   "cell_type": "code",
   "execution_count": 8,
   "metadata": {
    "collapsed": false
   },
   "outputs": [],
   "source": [
    "with open('pickle_test.pickle', 'r') as input_file:\n",
    "    model_test = pickle.load(input_file)"
   ]
  },
  {
   "cell_type": "code",
   "execution_count": 10,
   "metadata": {
    "collapsed": false
   },
   "outputs": [
    {
     "ename": "TypeError",
     "evalue": "fit() takes at least 3 arguments (1 given)",
     "output_type": "error",
     "traceback": [
      "\u001b[0;31m---------------------------------------------------------------------------\u001b[0m",
      "\u001b[0;31mTypeError\u001b[0m                                 Traceback (most recent call last)",
      "\u001b[0;32m<ipython-input-10-5cb0089e2718>\u001b[0m in \u001b[0;36m<module>\u001b[0;34m()\u001b[0m\n\u001b[0;32m----> 1\u001b[0;31m \u001b[0mmodel_test\u001b[0m\u001b[0;34m.\u001b[0m\u001b[0mfit\u001b[0m\u001b[0;34m(\u001b[0m\u001b[0;34m)\u001b[0m\u001b[0;34m\u001b[0m\u001b[0m\n\u001b[0m",
      "\u001b[0;31mTypeError\u001b[0m: fit() takes at least 3 arguments (1 given)"
     ]
    }
   ],
   "source": [
    "model_test.fit()"
   ]
  },
  {
   "cell_type": "code",
   "execution_count": null,
   "metadata": {
    "collapsed": true
   },
   "outputs": [],
   "source": []
  }
 ],
 "metadata": {
  "kernelspec": {
   "display_name": "Python 2",
   "language": "python",
   "name": "python2"
  },
  "language_info": {
   "codemirror_mode": {
    "name": "ipython",
    "version": 2
   },
   "file_extension": ".py",
   "mimetype": "text/x-python",
   "name": "python",
   "nbconvert_exporter": "python",
   "pygments_lexer": "ipython2",
   "version": "2.7.9"
  }
 },
 "nbformat": 4,
 "nbformat_minor": 0
}
