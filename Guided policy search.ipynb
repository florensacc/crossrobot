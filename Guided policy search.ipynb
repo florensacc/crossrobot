{
 "cells": [
  {
   "cell_type": "code",
   "execution_count": 1,
   "metadata": {
    "collapsed": true
   },
   "outputs": [],
   "source": [
    "%matplotlib inline\n",
    "import numpy as np\n",
    "import theano\n",
    "import theano.tensor as T\n",
    "theano.config.exception_verbosity='high'\n",
    "import scipy as sp\n",
    "import matplotlib.pyplot as plt\n",
    "import matplotlib.mlab as mlab\n"
   ]
  },
  {
   "cell_type": "code",
   "execution_count": 2,
   "metadata": {
    "collapsed": true
   },
   "outputs": [],
   "source": [
    "'''\n",
    "Simulates cartpole starting at x0 with action u -- ported from CS287 Matlab code\n",
    "'''\n",
    "\n",
    "def sim_cartpole(x0, u, dt):\n",
    "    \n",
    "    def dynamics(x, u):\n",
    "        mc = 10\n",
    "        mp = 1\n",
    "        l = 0.5\n",
    "        g = 9.81\n",
    "        T = 0.25\n",
    "        s = np.sin(x[1])\n",
    "        c = np.cos(x[1])\n",
    "        \n",
    "        xddot = (u + np.multiply(mp*s, l*np.power(x[3],2) + g*c))/(mc + mp*np.power(s,2))\n",
    "        tddot = (-u*c - np.multiply(np.multiply(mp*l*np.power(x[3],2), c),s) - \n",
    "                 np.multiply((mc+mp)*g,s)) / (l * (mc + np.multiply(mp, np.power(s,2))))\n",
    "        xdot = x[2:4]\n",
    "        xdot = np.append(xdot, xddot)\n",
    "        xdot = np.append(xdot, tddot)\n",
    "        \n",
    "        return xdot\n",
    "    \n",
    "    DT = 0.1\n",
    "    t = 0\n",
    "    while t < dt:\n",
    "        current_dt = min(DT, dt-t)\n",
    "        x0 = x0 + current_dt * dynamics(x0, u)\n",
    "        t = t + current_dt\n",
    "    \n",
    "    return x0\n",
    "    \n",
    " "
   ]
  },
  {
   "cell_type": "code",
   "execution_count": 3,
   "metadata": {
    "collapsed": true
   },
   "outputs": [],
   "source": [
    "'''\n",
    "Linearizes the dynamics of cartpole around a reference point for use in an LQR controler\n",
    "'''\n",
    "\n",
    "def linearize_cartpole(x_ref, u_ref, dt, eps):\n",
    "    A = np.zeros([4,4])\n",
    "\n",
    "    for i in range(4):\n",
    "        increment = np.zeros([4,])\n",
    "        increment[i] = eps\n",
    "        A[:,i] = (sim_cartpole(x_ref + increment, u_ref, dt) - \n",
    "                  sim_cartpole(x_ref, u_ref, dt)) / (eps)\n",
    "    \n",
    "    B = (sim_cartpole(x_ref, u_ref + eps, dt) - sim_cartpole(x_ref, u_ref, dt)) / (eps)\n",
    "    \n",
    "    c = x_ref\n",
    "    \n",
    "    return A, B, c"
   ]
  },
  {
   "cell_type": "code",
   "execution_count": 4,
   "metadata": {
    "collapsed": true
   },
   "outputs": [],
   "source": [
    "'''\n",
    "Computes the LQR infinte horizon controller associated with linear dyamics A, B and quadratic cost Q, R\n",
    "\n",
    "NOTE: Current version only works for cartpole because I hardcoded a couple of numbers for now\n",
    "'''\n",
    "\n",
    "def lqr_infinite_horizon(A, B, Q, R):\n",
    "    nA = A.shape[0]\n",
    "\n",
    "    if len(B.shape) == 1:\n",
    "        nB = 1\n",
    "    else:\n",
    "        nB = B.shape[1]\n",
    "\n",
    "    P_current = np.zeros([nA, nA])\n",
    "\n",
    "    P_new = np.eye(nA)\n",
    "\n",
    "    K_current = np.zeros([nB, nA])\n",
    "\n",
    "    K_new= np.triu(np.tril(np.ones([nB,nA]),0),0)\n",
    "\n",
    "    while np.linalg.norm(K_new - K_current, 2) > 1E-4:\n",
    "        P_current = P_new\n",
    "      \n",
    "        K_current = K_new\n",
    "        \n",
    "        Quu = R + np.dot(np.dot( np.transpose(B), P_current), B)\n",
    "        \n",
    "        K_new = -np.linalg.inv(Quu) * np.dot(np.dot( np.transpose(B), P_current), A)\n",
    "    \n",
    "        P_new = Q + np.dot(np.dot( np.transpose(K_new), \n",
    "                                   R), \n",
    "                                   K_new) + np.dot(np.dot( np.transpose(A + np.dot(B.reshape(4,1), K_new)),\n",
    "                                                           P_current),\n",
    "                                                           (A + np.dot(B.reshape(4,1), K_new.reshape(1,4)))\n",
    "                          )\n",
    "        \n",
    "    return K_new, P_new, Quu"
   ]
  },
  {
   "cell_type": "code",
   "execution_count": 10,
   "metadata": {
    "collapsed": false
   },
   "outputs": [
    {
     "data": {
      "text/plain": [
       "array([[ 2.23925216]])"
      ]
     },
     "execution_count": 10,
     "metadata": {},
     "output_type": "execute_result"
    }
   ],
   "source": [
    "'''\n",
    "Generate LQR trajectory for solving our simple cartpole problem\n",
    "'''\n",
    "\n",
    "x_ref = np.array([0, np.pi, 0, 0])\n",
    "u_ref = 0.\n",
    "A, B, c = linearize_cartpole(x_ref, u_ref, 0.1, 0.1)\n",
    "Q = np.eye(4)\n",
    "R = np.eye(1)\n",
    "dt = 0.1\n",
    "x_init = np.array([0, np.pi - np.pi/10, 0, 0])\n",
    "\n",
    "K_inf, P_inf, Quu = lqr_infinite_horizon(A, B, Q, R)\n",
    "\n",
    "x_lqr = np.zeros([4,500])\n",
    "u_lqr = np.zeros([1,500])\n",
    "\n",
    "x_lqr[:,0] = np.array([0, np.pi - np.pi/10, 0, 0])\n",
    "u_lqr[:,0] = np.dot(K_inf, (x_lqr[:,0] - x_ref)) + u_ref\n",
    "\n",
    "for i in range(499):\n",
    "    x_lqr[:,i+1] = sim_cartpole(x_lqr[:,i], u_lqr[:,i], dt)\n",
    "    u_lqr[:,i+1] = np.dot(K_inf, (x_lqr[:,i] - x_ref) ) + u_ref\n",
    "    \n",
    "Quu"
   ]
  },
  {
   "cell_type": "code",
   "execution_count": 6,
   "metadata": {
    "collapsed": false
   },
   "outputs": [
    {
     "data": {
      "text/plain": [
       "array([-0.29505298,  3.120957  ,  0.14289469,  0.13392869])"
      ]
     },
     "execution_count": 6,
     "metadata": {},
     "output_type": "execute_result"
    }
   ],
   "source": [
    "'''\n",
    "Generate samples from the guidance trajectory\n",
    "'''\n",
    "\n",
    "def gen_traj_guidance(x_init, x_ref, u_ref, K, variance, traj_size, dt):\n",
    "    xs = len(x_ref)\n",
    "    \n",
    "    if type(u_ref) == float:\n",
    "        us = 1\n",
    "    else:\n",
    "        us = len(u_ref)\n",
    "    \n",
    "    x_traj = np.zeros([xs, traj_size])\n",
    "    u_traj = np.zeros([us, traj_size])\n",
    "    \n",
    "    x_traj[:,0] = x_init\n",
    "    u_traj[:,0] = np.random.multivariate_normal(np.dot(K, (x_traj[:,0] - x_ref) ) + u_ref, variance)\n",
    "    \n",
    "    for t in range(traj_size-1):\n",
    "        x_traj[:,t+1] = sim_cartpole(x_traj[:,t], u_traj[:,t], dt)\n",
    "        u_mean = np.dot(K, (x_traj[:,t] - x_ref) ) + u_ref\n",
    "        u_traj[:,t+1] = np.random.multivariate_normal(u_mean, variance)\n",
    "    \n",
    "    return x_traj, u_traj\n",
    "\n",
    "x_traj1, u_traj1 = gen_traj_guidance(x_init, x_ref, u_ref, K_inf, variance, 500, dt)\n",
    "x_traj1[:,-1]"
   ]
  },
  {
   "cell_type": "code",
   "execution_count": 8,
   "metadata": {
    "collapsed": true
   },
   "outputs": [],
   "source": [
    "\"\"\"\n",
    "Implementation of hidden layer class. Modified from here: http://deeplearning.net/tutorial/mlp.html#mlp.\n",
    "\n",
    "Note: I changed feeding forward to a function because I couldn't figure out how to update the internal state 'input'\n",
    "    when iterating to generate paths. May be better to switch back to that in the long run to make more layers\n",
    "    easier to link together?\n",
    "\n",
    "\"\"\"\n",
    "\n",
    "class HiddenLayer(object):\n",
    "    def __init__(self, rng, n_in, n_out, W=None, b=None, activation=T.tanh):\n",
    "        self.input = input\n",
    "        \n",
    "        if W is None:\n",
    "            W_values = np.asarray(\n",
    "                rng.uniform(\n",
    "                    low = -np.sqrt(6. / (n_in + n_out)), #ADDED 0.001\n",
    "                    high = np.sqrt(6. / (n_in + n_out)), #ADDED 0.001\n",
    "                    size = (n_in, n_out)\n",
    "                ),\n",
    "                dtype = theano.config.floatX)\n",
    "            if activation == theano.tensor.nnet.sigmoid:\n",
    "                W_values *= 4\n",
    "                \n",
    "            W = theano.shared(value=W_values, name='W', borrow=True)\n",
    "            \n",
    "        if b is None:\n",
    "            b_values = np.zeros((n_out,), dtype = theano.config.floatX)\n",
    "            b = theano.shared(value = b_values, name='b', borrow=True)\n",
    "        \n",
    "        self.W = W\n",
    "        self.b = b\n",
    "        \n",
    "        self.params = [self.W, self.b]\n",
    "        \n",
    "        self.activation = activation\n",
    "        \n",
    "    def feed_forward(self, input):\n",
    "        lin_output = T.dot(input, self.W) + self.b\n",
    "        output = (\n",
    "            lin_output if self.activation is None\n",
    "            else self.activation(lin_output)\n",
    "        )\n",
    "        \n",
    "        return output\n",
    "    \n",
    "'''\n",
    "Class wrapper for our basic feed forward network in Theano. \n",
    "\n",
    "Modified from here: http://deeplearning.net/tutorial/mlp.html#mlp.\n",
    "\n",
    "Note: similar to above, modified to make feed-forward a function in the main version\n",
    "'''\n",
    "\n",
    "class SingleLayerNet(object):\n",
    "    \n",
    "    def __init__(self, rng, n_in, n_hidden, n_out):\n",
    "                \n",
    "        self.hiddenLayer = HiddenLayer(\n",
    "            rng = rng,\n",
    "            n_in = n_in, \n",
    "            n_out = n_hidden, \n",
    "            activation = T.tanh\n",
    "        )\n",
    "        \n",
    "        self.outputLayer = HiddenLayer(\n",
    "            rng = rng,\n",
    "            n_in = n_hidden,\n",
    "            n_out = n_out,\n",
    "            activation = None\n",
    "        )\n",
    "             \n",
    "        \n",
    "        ## L1 and L2 regularization. Not used for now.\n",
    "        self.L1 = ( abs(self.hiddenLayer.W).sum() + abs(self.outputLayer.W).sum() )\n",
    "        \n",
    "        self.L2_sqr = ( (self.hiddenLayer.W ** 2).sum() + (self.outputLayer.W ** 2).sum())\n",
    "                \n",
    "        self.params = self.hiddenLayer.params + self.outputLayer.params\n",
    "        \n",
    "        \n",
    "    def feed_forward(self, input):\n",
    "        output = self.outputLayer.feed_forward(self.hiddenLayer.feed_forward(input))\n",
    "        return output\n",
    "        "
   ]
  },
  {
   "cell_type": "code",
   "execution_count": 11,
   "metadata": {
    "collapsed": true
   },
   "outputs": [],
   "source": []
  },
  {
   "cell_type": "code",
   "execution_count": 23,
   "metadata": {
    "collapsed": false
   },
   "outputs": [
    {
     "name": "stdout",
     "output_type": "stream",
     "text": [
      "0 : -276.352\n",
      "100 : -276.343\n",
      "200 : -276.328\n",
      "300 : -276.315\n",
      "400 : -276.304\n",
      "500 : -276.296\n",
      "600 : -276.291\n",
      "700 : -276.289\n",
      "800 : -276.290\n",
      "900 : -276.306\n"
     ]
    }
   ],
   "source": [
    "'''\n",
    "Define probability of a trajectory and initialize parameter weights\n",
    "'''\n",
    "rng = np.random.RandomState(1234)\n",
    "\n",
    "policy = SingleLayerNet(rng, 4, 10, 1)\n",
    "\n",
    "Tpi = theano.shared(np.pi)\n",
    "\n",
    "\n",
    "def normal_pdf(u, u0, var):\n",
    "    return (1/(var * T.sqrt(2 * Tpi)))*T.exp( -(u-u0)**2 / (2*var**2) )\n",
    "\n",
    "def log_traj_prob_q(x_traj, u_traj, x_ref, u_ref, K, var):\n",
    "    T = x_traj.shape[1]\n",
    "    \n",
    "    prob = 0\n",
    "    for t in range(T):\n",
    "        prob += np.log(sp.stats.norm.pdf(u_traj[:,t], np.dot(K, (x_traj[:,t] - x_ref) ) + u_ref, var))\n",
    "    return prob\n",
    "\n",
    "input = T.vector()\n",
    "T_feed_forward = theano.function([input], policy.feed_forward(input))\n",
    "\n",
    "def log_traj_prob_pi(x_traj, u_traj, x_ref, u_ref, var):\n",
    "    T = x_traj.shape[1]\n",
    "    \n",
    "    prob = 0\n",
    "    for t in range(T):\n",
    "        prob += np.log(sp.stats.norm.pdf(u_traj[:,t], T_feed_forward(x_traj[:,t]), var))\n",
    "    return prob\n",
    "\n",
    "var2 = 10\n",
    "a = log_traj_prob_pi(x_traj1, u_traj1, x_ref, u_ref, var2)\n",
    "b = log_traj_prob_q(x_traj1, u_traj1, x_ref, u_ref, K_inf, variance)\n",
    "a, b\n",
    "\n",
    "xtraj_T = T.dmatrix('xtraj_T')\n",
    "utraj_T = T.dvector('utraj_T')\n",
    "x_paths = T.tensor3('x_paths')\n",
    "u_paths = T.dmatrix('u_paths')\n",
    "sig = T.dscalar('sig')\n",
    "prob = T.dvector('prob')\n",
    "learning_rate = theano.shared(1)\n",
    "\n",
    "\n",
    "results, updates = theano.scan(lambda u_i, x_i, var: T.log(normal_pdf(u_i, policy.feed_forward(x_i), var)), \n",
    "                               sequences=[utraj_T,xtraj_T.T],\n",
    "                               non_sequences=[sig])\n",
    "\n",
    "total = T.sum(results)\n",
    "\n",
    "calculate_prob = theano.function(inputs=[utraj_T, xtraj_T, sig], outputs=[total]) #total\n",
    "\n",
    "#print calculate_prob(u_lqr.reshape(500,), x_lqr, 1)\n",
    "\n",
    "grad_logsum = [T.grad(total, param) for param in policy.params]\n",
    "\n",
    "calculate_grad = theano.function(inputs=[utraj_T, xtraj_T, sig], outputs=grad_logsum)\n",
    "\n",
    "calculate_grad(u_lqr.reshape(500,), x_lqr, 2)\n",
    "\n",
    "updates = [(param, param + learning_rate * gparam) for (param, gparam) in zip(policy.params, grad_logsum)]\n",
    "\n",
    "initialize_model = theano.function(\n",
    "    inputs = [utraj_T, xtraj_T, sig],\n",
    "    outputs = total,\n",
    "    updates = updates)\n",
    "\n",
    "\n",
    "xtrajs = np.zeros([4,500,10])\n",
    "utrajs = np.zeros([1,500,10])\n",
    "\n",
    "for j in range(10):\n",
    "    xtrajs[:,:,j], utrajs[:,:,j] = gen_traj_guidance(x_init, x_ref, u_ref, K_inf, variance, 500, dt)\n",
    "for i in range(1000):\n",
    "    for j in range(10):\n",
    "        outi = 0.1 * initialize_model(utrajs[:,:,j].reshape(500,), xtrajs[:,:,j], 100) \n",
    "    if (i % 100 == 0):\n",
    "        print \"%d : %.3f\" % (i, outi)\n",
    "        #print \"Parameters\"\n",
    "        #print [param.get_value() for param in policy.params]\n",
    "        #print \"Gradient\"\n",
    "        #print calculate_grad(u_lqr.reshape(500,), x_lqr, 2)\n"
   ]
  },
  {
   "cell_type": "code",
   "execution_count": 94,
   "metadata": {
    "collapsed": true
   },
   "outputs": [],
   "source": [
    "x_i = T.dvector('x_i')\n",
    "\n",
    "pt_grad = [T.grad(policy.feed_forward(x_i).sum(), param) for param in policy.params]\n",
    "\n",
    "T_feed_forward = theano.function([x_i], policy.feed_forward(x_i))\n",
    "\n",
    "calc_pt_grad = theano.function([x_i], pt_grad)\n",
    "\n",
    "sigma = 1\n",
    "Tt = 500\n",
    "m = 10\n",
    "var_pi = 0.1\n",
    "var_q = variance\n",
    "w_r = 1\n",
    "\n",
    "\n",
    "\n",
    "def calc_cost_gradient(xtrajs, utrajs, x_ref, u_ref, var_pi, var_q, w_r, Tt, m):\n",
    "    \n",
    "    cost_grad = [param.get_value() for param in policy.params]\n",
    "    cost_grad = [param*0 for param in cost_grad]\n",
    "\n",
    "    Z_num = np.zeros([m,Tt])\n",
    "    Z_den = np.zeros([m,Tt])\n",
    "    Zti = np.zeros([m,Tt])\n",
    "\n",
    "    # Precompute z factors\n",
    "    for t in range(Tt):\n",
    "        for i in range(m):\n",
    "            if t == 0:\n",
    "                Z_den[i, t] = np.log(sp.stats.norm.pdf(utrajs[:,t,i], np.dot(K_inf, (xtrajs[:,t,i] - x_ref) ) + u_ref, var_q)) \n",
    "                Z_num[i, t] = np.log(sp.stats.norm.pdf(utrajs[:,t,i], T_feed_forward(xtrajs[:,t,i]), var_pi))\n",
    "            else:\n",
    "                Z_den[i, t] = Z_den[i, t-1] + np.log(sp.stats.norm.pdf(utrajs[:,t,i], np.dot(K_inf, (xtrajs[:,t,i] - x_ref) ) + u_ref, var_q)) \n",
    "                Z_num[i, t] = Z_num[i, t-1] + np.log(sp.stats.norm.pdf(utrajs[:,t,i], T_feed_forward(xtrajs[:,t,i]), var_pi))\n",
    "\n",
    "    Zti = Z_num - Z_den\n",
    "\n",
    "    C = np.zeros([m, Tt])\n",
    "    # Precompute costs\n",
    "    for t in range(Tt):\n",
    "        for i in range(m):\n",
    "            C[i, t] = np.linalg.norm(xtrajs[:,t,i] - x_ref)\n",
    "\n",
    "    for t in range(Tt):\n",
    "        #if np.mod(t, 10) == 0: \n",
    "        #    print t\n",
    "        for i in range(m):\n",
    "            pt_grad = calc_pt_grad(xtrajs[:,t,i])\n",
    "            pt_FF = T_feed_forward(xtrajs[:,t,i])[0]\n",
    "            current_u = utrajs[:,t,i][0]\n",
    "\n",
    "            RHS = 0\n",
    "            for t2 in range(t,Tt):\n",
    "                Jt = np.dot(np.exp(Zti[:,t2]), C[:,t2])/sum(np.exp(Zti[:,t2]))\n",
    "                RHS += ( np.exp(Zti[i,t2])/sum(np.exp(Zti[:,t2])) ) * (C[i, t2] - Jt + w_r)\n",
    "\n",
    "            r_of_grad = ((current_u - pt_FF )/ (sigma^2))*RHS\n",
    "            for j in range(len(cost_grad)):\n",
    "                cost_grad[j] += pt_grad[j] * r_of_grad\n",
    "            \n",
    "    return cost_grad, C, pt_grad, Zti, RHS, r_of_grad, Jt, w_r, Z_num, Z_den"
   ]
  },
  {
   "cell_type": "code",
   "execution_count": 22,
   "metadata": {
    "collapsed": false
   },
   "outputs": [
    {
     "name": "stdout",
     "output_type": "stream",
     "text": [
      "0\n",
      "[array([[ -1.04903373,  -1.26415246,  -1.0909558 ,  -1.41983731,\n",
      "          5.93730939,  -0.98843879,   0.08488201,   1.44680123,\n",
      "          3.8935516 ,   1.99884592],\n",
      "       [ -3.81884282,  -0.79756337,   2.23817274,   4.21614781,\n",
      "         -1.75709749,  -7.96353856,  -5.60692262,  -2.56036478,\n",
      "          3.65207593,   2.31769973],\n",
      "       [ -1.27379169,  15.03169879, -12.33492665,  -6.96538793,\n",
      "         13.70969153,  -3.17156936,  -0.39207922,   1.3610368 ,\n",
      "         -5.9037539 ,   0.35035419],\n",
      "       [  4.21645399, -10.91878693,   4.90761395,  -6.37882656,\n",
      "         -3.14820412,   7.20881811,  -8.81388986,   2.24063287,\n",
      "         -8.93513783,   2.13806456]]), array([  9.37093812,  -7.51210679,   5.19599132,  -7.2658325 ,\n",
      "        -7.8051358 ,  21.53308866,  15.35700982,   0.0418934 ,\n",
      "        -4.65429995,   0.12510132]), array([[  9.15309127],\n",
      "       [-23.6719077 ],\n",
      "       [ 18.59283578],\n",
      "       [-15.01531865],\n",
      "       [-20.83424973],\n",
      "       [ 24.80251039],\n",
      "       [ 10.15950916],\n",
      "       [  0.27398432],\n",
      "       [-12.88428865],\n",
      "       [  2.63758142]]), array([ 2.76501421])]\n",
      "[array([[ nan,  nan,  nan,  nan,  nan,  nan,  nan,  nan,  nan,  nan],\n",
      "       [ nan,  nan,  nan,  nan,  nan,  nan,  nan,  nan,  nan,  nan],\n",
      "       [ nan,  nan,  nan,  nan,  nan,  nan,  nan,  nan,  nan,  nan],\n",
      "       [ nan,  nan,  nan,  nan,  nan,  nan,  nan,  nan,  nan,  nan]]), array([ nan,  nan,  nan,  nan,  nan,  nan,  nan,  nan,  nan,  nan]), array([[ nan],\n",
      "       [ nan],\n",
      "       [ nan],\n",
      "       [ nan],\n",
      "       [ nan],\n",
      "       [ nan],\n",
      "       [ nan],\n",
      "       [ nan],\n",
      "       [ nan],\n",
      "       [ nan]]), array([ nan])]\n",
      "1\n",
      "[array([[ nan,  nan,  nan,  nan,  nan,  nan,  nan,  nan,  nan,  nan],\n",
      "       [ nan,  nan,  nan,  nan,  nan,  nan,  nan,  nan,  nan,  nan],\n",
      "       [ nan,  nan,  nan,  nan,  nan,  nan,  nan,  nan,  nan,  nan],\n",
      "       [ nan,  nan,  nan,  nan,  nan,  nan,  nan,  nan,  nan,  nan]]), array([ nan,  nan,  nan,  nan,  nan,  nan,  nan,  nan,  nan,  nan]), array([[ nan],\n",
      "       [ nan],\n",
      "       [ nan],\n",
      "       [ nan],\n",
      "       [ nan],\n",
      "       [ nan],\n",
      "       [ nan],\n",
      "       [ nan],\n",
      "       [ nan],\n",
      "       [ nan]]), array([ nan])]\n",
      "[array([[ nan,  nan,  nan,  nan,  nan,  nan,  nan,  nan,  nan,  nan],\n",
      "       [ nan,  nan,  nan,  nan,  nan,  nan,  nan,  nan,  nan,  nan],\n",
      "       [ nan,  nan,  nan,  nan,  nan,  nan,  nan,  nan,  nan,  nan],\n",
      "       [ nan,  nan,  nan,  nan,  nan,  nan,  nan,  nan,  nan,  nan]]), array([ nan,  nan,  nan,  nan,  nan,  nan,  nan,  nan,  nan,  nan]), array([[ nan],\n",
      "       [ nan],\n",
      "       [ nan],\n",
      "       [ nan],\n",
      "       [ nan],\n",
      "       [ nan],\n",
      "       [ nan],\n",
      "       [ nan],\n",
      "       [ nan],\n",
      "       [ nan]]), array([ nan])]\n",
      "2\n"
     ]
    },
    {
     "ename": "KeyboardInterrupt",
     "evalue": "",
     "output_type": "error",
     "traceback": [
      "\u001b[0;31m---------------------------------------------------------------------------\u001b[0m",
      "\u001b[0;31mKeyboardInterrupt\u001b[0m                         Traceback (most recent call last)",
      "\u001b[0;32m<ipython-input-22-70aa17c0a044>\u001b[0m in \u001b[0;36m<module>\u001b[0;34m()\u001b[0m\n\u001b[1;32m      4\u001b[0m \u001b[0;32mfor\u001b[0m \u001b[0mstep\u001b[0m \u001b[0;32min\u001b[0m \u001b[0mrange\u001b[0m\u001b[0;34m(\u001b[0m\u001b[0;36m10\u001b[0m\u001b[0;34m)\u001b[0m\u001b[0;34m:\u001b[0m\u001b[0;34m\u001b[0m\u001b[0m\n\u001b[1;32m      5\u001b[0m     \u001b[0;32mprint\u001b[0m \u001b[0mstep\u001b[0m\u001b[0;34m\u001b[0m\u001b[0m\n\u001b[0;32m----> 6\u001b[0;31m     \u001b[0mgrads\u001b[0m \u001b[0;34m=\u001b[0m \u001b[0mcalc_cost_gradient\u001b[0m\u001b[0;34m(\u001b[0m\u001b[0mxtrajs\u001b[0m\u001b[0;34m,\u001b[0m \u001b[0mutrajs\u001b[0m\u001b[0;34m,\u001b[0m \u001b[0mx_ref\u001b[0m\u001b[0;34m,\u001b[0m \u001b[0mu_ref\u001b[0m\u001b[0;34m,\u001b[0m \u001b[0mvar_pi\u001b[0m\u001b[0;34m,\u001b[0m \u001b[0mvar_q\u001b[0m\u001b[0;34m,\u001b[0m \u001b[0mw_r\u001b[0m\u001b[0;34m,\u001b[0m \u001b[0mTt\u001b[0m\u001b[0;34m,\u001b[0m \u001b[0mm\u001b[0m\u001b[0;34m)\u001b[0m\u001b[0;34m\u001b[0m\u001b[0m\n\u001b[0m\u001b[1;32m      7\u001b[0m     \u001b[0;32mprint\u001b[0m \u001b[0;34m[\u001b[0m\u001b[0mparam\u001b[0m\u001b[0;34m.\u001b[0m\u001b[0mget_value\u001b[0m\u001b[0;34m(\u001b[0m\u001b[0;34m)\u001b[0m \u001b[0;32mfor\u001b[0m \u001b[0mparam\u001b[0m \u001b[0;32min\u001b[0m \u001b[0mpolicy\u001b[0m\u001b[0;34m.\u001b[0m\u001b[0mparams\u001b[0m\u001b[0;34m]\u001b[0m\u001b[0;34m\u001b[0m\u001b[0m\n\u001b[1;32m      8\u001b[0m     \u001b[0;32mprint\u001b[0m \u001b[0mgrads\u001b[0m\u001b[0;34m\u001b[0m\u001b[0m\n",
      "\u001b[0;32m<ipython-input-18-6ce436a0fc71>\u001b[0m in \u001b[0;36mcalc_cost_gradient\u001b[0;34m(xtrajs, utrajs, x_ref, u_ref, var_pi, var_q, w_r, Tt, m)\u001b[0m\n\u001b[1;32m     53\u001b[0m             \u001b[0mRHS\u001b[0m \u001b[0;34m=\u001b[0m \u001b[0;36m0\u001b[0m\u001b[0;34m\u001b[0m\u001b[0m\n\u001b[1;32m     54\u001b[0m             \u001b[0;32mfor\u001b[0m \u001b[0mt2\u001b[0m \u001b[0;32min\u001b[0m \u001b[0mrange\u001b[0m\u001b[0;34m(\u001b[0m\u001b[0mt\u001b[0m\u001b[0;34m,\u001b[0m\u001b[0mTt\u001b[0m\u001b[0;34m)\u001b[0m\u001b[0;34m:\u001b[0m\u001b[0;34m\u001b[0m\u001b[0m\n\u001b[0;32m---> 55\u001b[0;31m                 \u001b[0mJt\u001b[0m \u001b[0;34m=\u001b[0m \u001b[0mnp\u001b[0m\u001b[0;34m.\u001b[0m\u001b[0mdot\u001b[0m\u001b[0;34m(\u001b[0m\u001b[0mnp\u001b[0m\u001b[0;34m.\u001b[0m\u001b[0mexp\u001b[0m\u001b[0;34m(\u001b[0m\u001b[0mZti\u001b[0m\u001b[0;34m[\u001b[0m\u001b[0;34m:\u001b[0m\u001b[0;34m,\u001b[0m\u001b[0mt2\u001b[0m\u001b[0;34m]\u001b[0m\u001b[0;34m)\u001b[0m\u001b[0;34m,\u001b[0m \u001b[0mC\u001b[0m\u001b[0;34m[\u001b[0m\u001b[0;34m:\u001b[0m\u001b[0;34m,\u001b[0m\u001b[0mt2\u001b[0m\u001b[0;34m]\u001b[0m\u001b[0;34m)\u001b[0m\u001b[0;34m/\u001b[0m\u001b[0msum\u001b[0m\u001b[0;34m(\u001b[0m\u001b[0mnp\u001b[0m\u001b[0;34m.\u001b[0m\u001b[0mexp\u001b[0m\u001b[0;34m(\u001b[0m\u001b[0mZti\u001b[0m\u001b[0;34m[\u001b[0m\u001b[0;34m:\u001b[0m\u001b[0;34m,\u001b[0m\u001b[0mt2\u001b[0m\u001b[0;34m]\u001b[0m\u001b[0;34m)\u001b[0m\u001b[0;34m)\u001b[0m\u001b[0;34m\u001b[0m\u001b[0m\n\u001b[0m\u001b[1;32m     56\u001b[0m                 \u001b[0mRHS\u001b[0m \u001b[0;34m+=\u001b[0m \u001b[0;34m(\u001b[0m \u001b[0mnp\u001b[0m\u001b[0;34m.\u001b[0m\u001b[0mexp\u001b[0m\u001b[0;34m(\u001b[0m\u001b[0mZti\u001b[0m\u001b[0;34m[\u001b[0m\u001b[0mi\u001b[0m\u001b[0;34m,\u001b[0m\u001b[0mt2\u001b[0m\u001b[0;34m]\u001b[0m\u001b[0;34m)\u001b[0m\u001b[0;34m/\u001b[0m\u001b[0msum\u001b[0m\u001b[0;34m(\u001b[0m\u001b[0mnp\u001b[0m\u001b[0;34m.\u001b[0m\u001b[0mexp\u001b[0m\u001b[0;34m(\u001b[0m\u001b[0mZti\u001b[0m\u001b[0;34m[\u001b[0m\u001b[0;34m:\u001b[0m\u001b[0;34m,\u001b[0m\u001b[0mt2\u001b[0m\u001b[0;34m]\u001b[0m\u001b[0;34m)\u001b[0m\u001b[0;34m)\u001b[0m \u001b[0;34m)\u001b[0m \u001b[0;34m*\u001b[0m \u001b[0;34m(\u001b[0m\u001b[0mC\u001b[0m\u001b[0;34m[\u001b[0m\u001b[0mi\u001b[0m\u001b[0;34m,\u001b[0m \u001b[0mt2\u001b[0m\u001b[0;34m]\u001b[0m \u001b[0;34m-\u001b[0m \u001b[0mJt\u001b[0m \u001b[0;34m+\u001b[0m \u001b[0mw_r\u001b[0m\u001b[0;34m)\u001b[0m\u001b[0;34m\u001b[0m\u001b[0m\n\u001b[1;32m     57\u001b[0m \u001b[0;34m\u001b[0m\u001b[0m\n",
      "\u001b[0;31mKeyboardInterrupt\u001b[0m: "
     ]
    }
   ],
   "source": [
    "learning_rate = 0.001\n",
    "\n",
    "\n",
    "for step in range(10):\n",
    "    print step\n",
    "    grads = calc_cost_gradient(xtrajs, utrajs, x_ref, u_ref, var_pi, var_q, w_r, Tt, m)\n",
    "    print [param.get_value() for param in policy.params]\n",
    "    print grads\n",
    "    updates = [(param, param - learning_rate*grad) for param, grad in zip(policy.params, grads)]\n",
    "    update_params = theano.function([], updates=updates)\n",
    "    update_params()"
   ]
  },
  {
   "cell_type": "code",
   "execution_count": 50,
   "metadata": {
    "collapsed": false
   },
   "outputs": [
    {
     "data": {
      "text/plain": [
       "[array([[ -1.39323903,   2.45241547,  -0.73233087,  -1.63707152,\n",
       "           6.8357398 ,  -0.54114185,   0.06917809,   1.40240891,\n",
       "           3.06266455,   1.98819506],\n",
       "        [ -3.38575849,  -1.47705329,   2.17019443,   4.22590421,\n",
       "          -2.30089308,  -9.26046494,  -5.91324043,  -2.45487764,\n",
       "           3.87918905,   2.38355789],\n",
       "        [ -0.8053268 ,  15.30104787, -12.30725895,  -8.95738688,\n",
       "          15.65580159,  -2.85171037,   0.60164361,   1.34517153,\n",
       "          -5.89465432,   0.3434334 ],\n",
       "        [  5.08535856, -10.57072355,   5.04315033,  -6.25583491,\n",
       "          -4.19093011,   6.08708606,  -9.52748037,   2.27824037,\n",
       "          -9.36692107,   2.13535656]]),\n",
       " array([  7.20770837,  -8.20972613,   5.06421715,  -6.97756834,\n",
       "         -8.52216376,  24.93880891,  15.87473965,   0.09923698,\n",
       "         -5.00230538,   0.14823921]),\n",
       " array([[  8.43135625],\n",
       "        [-24.1936242 ],\n",
       "        [ 18.66978265],\n",
       "        [-16.1111121 ],\n",
       "        [-22.80493074],\n",
       "        [ 24.35942861],\n",
       "        [ 11.1203583 ],\n",
       "        [  0.41530229],\n",
       "        [-12.46079932],\n",
       "        [  3.20216968]]),\n",
       " array([ 3.34225288])]"
      ]
     },
     "execution_count": 50,
     "metadata": {},
     "output_type": "execute_result"
    }
   ],
   "source": [
    "[param.get_value() for param in policy.params]"
   ]
  },
  {
   "cell_type": "code",
   "execution_count": 95,
   "metadata": {
    "collapsed": false
   },
   "outputs": [],
   "source": [
    "grads, C, pt_grad, Zti, rhs, r_of_grad, Jt, w_r, Z_num, Z_den = calc_cost_gradient(xtrajs, utrajs, x_ref, u_ref, var_pi, var_q, w_r, Tt, m)"
   ]
  },
  {
   "cell_type": "code",
   "execution_count": 77,
   "metadata": {
    "collapsed": false
   },
   "outputs": [
    {
     "data": {
      "text/plain": [
       "nan"
      ]
     },
     "execution_count": 77,
     "metadata": {},
     "output_type": "execute_result"
    }
   ],
   "source": [
    "np.dot(np.exp(Zti[:,499]), C[:,499])/sum(np.exp(Zti[:,499]))"
   ]
  },
  {
   "cell_type": "code",
   "execution_count": 78,
   "metadata": {
    "collapsed": false
   },
   "outputs": [
    {
     "data": {
      "text/plain": [
       "0.0"
      ]
     },
     "execution_count": 78,
     "metadata": {},
     "output_type": "execute_result"
    }
   ],
   "source": [
    "np.dot(np.exp(Zti[:,499]), C[:,499])"
   ]
  },
  {
   "cell_type": "code",
   "execution_count": 79,
   "metadata": {
    "collapsed": false
   },
   "outputs": [
    {
     "data": {
      "text/plain": [
       "0.0"
      ]
     },
     "execution_count": 79,
     "metadata": {},
     "output_type": "execute_result"
    }
   ],
   "source": [
    "sum(np.exp(Zti[:,499]))"
   ]
  },
  {
   "cell_type": "code",
   "execution_count": 85,
   "metadata": {
    "collapsed": false
   },
   "outputs": [
    {
     "data": {
      "text/plain": [
       "array([-1018.17143816, -1123.2954605 , -1167.12530625, -1126.62695577,\n",
       "        -925.93954332,  -917.60005614,  -933.57758987, -1292.94995172,\n",
       "       -1137.40406385,  -948.6364854 ])"
      ]
     },
     "execution_count": 85,
     "metadata": {},
     "output_type": "execute_result"
    }
   ],
   "source": [
    "Zti[:,499]"
   ]
  },
  {
   "cell_type": "code",
   "execution_count": 96,
   "metadata": {
    "collapsed": false
   },
   "outputs": [
    {
     "data": {
      "text/plain": [
       "array([[-inf, -inf, -inf, ..., -inf, -inf, -inf],\n",
       "       [-inf, -inf, -inf, ..., -inf, -inf, -inf],\n",
       "       [-inf, -inf, -inf, ..., -inf, -inf, -inf],\n",
       "       ..., \n",
       "       [-inf, -inf, -inf, ..., -inf, -inf, -inf],\n",
       "       [-inf, -inf, -inf, ..., -inf, -inf, -inf],\n",
       "       [-inf, -inf, -inf, ..., -inf, -inf, -inf]])"
      ]
     },
     "execution_count": 96,
     "metadata": {},
     "output_type": "execute_result"
    }
   ],
   "source": [
    "Z_num"
   ]
  },
  {
   "cell_type": "code",
   "execution_count": 98,
   "metadata": {
    "collapsed": false
   },
   "outputs": [
    {
     "data": {
      "text/plain": [
       "array([-1744.6911319 , -1639.46472606, -1595.55561968, -1636.19642222,\n",
       "       -1836.92784735, -1845.33929327, -1829.2542926 , -1469.70325036,\n",
       "       -1625.31181025, -1814.25730112])"
      ]
     },
     "execution_count": 98,
     "metadata": {},
     "output_type": "execute_result"
    }
   ],
   "source": [
    "Z_den[:,499]"
   ]
  },
  {
   "cell_type": "code",
   "execution_count": null,
   "metadata": {
    "collapsed": true
   },
   "outputs": [],
   "source": []
  }
 ],
 "metadata": {
  "kernelspec": {
   "display_name": "Python 2",
   "language": "python",
   "name": "python2"
  },
  "language_info": {
   "codemirror_mode": {
    "name": "ipython",
    "version": 2
   },
   "file_extension": ".py",
   "mimetype": "text/x-python",
   "name": "python",
   "nbconvert_exporter": "python",
   "pygments_lexer": "ipython2",
   "version": "2.7.9"
  }
 },
 "nbformat": 4,
 "nbformat_minor": 0
}
