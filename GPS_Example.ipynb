{
 "cells": [
  {
   "cell_type": "code",
   "execution_count": 8,
   "metadata": {
    "collapsed": false
   },
   "outputs": [],
   "source": [
    "############\n",
    "# PACKAGES #\n",
    "############\n",
    "\n",
    "%matplotlib inline\n",
    "import numpy as np\n",
    "import theano\n",
    "import theano.tensor as T\n",
    "theano.config.exception_verbosity='high'\n",
    "import scipy as sp\n",
    "import matplotlib.pyplot as plt\n",
    "import matplotlib.mlab as mlab\n",
    "import cPickle as pickle\n",
    "import gzip\n",
    "import os\n",
    "import sys\n",
    "import timeit\n",
    "import pandas as pd\n",
    "\n",
    "import cartpole_lib as cp\n",
    "\n",
    "import nnet_lib as nnet\n"
   ]
  },
  {
   "cell_type": "markdown",
   "metadata": {},
   "source": [
    "# An example of a simple policy for a single cart/pole mass"
   ]
  },
  {
   "cell_type": "code",
   "execution_count": 72,
   "metadata": {
    "collapsed": false
   },
   "outputs": [],
   "source": [
    "#################\n",
    "# GENERATE DATA #\n",
    "#################\n",
    "\n",
    "dt, eps = 0.1, 0.1\n",
    "Q = np.eye(6)\n",
    "R = np.eye(1)\n",
    "\n",
    "xref1 = np.array([0,np.pi,0,0,10,1])\n",
    "uref = 0.\n",
    "A1, B1, c1 = cp.linearize_cartpole_ext(xref1, uref, dt, eps)\n",
    "K1, P1, Quu1 = cp.lqr_infinite_horizon(A1, B1, Q, R)\n",
    "\n",
    "x1 = np.array([0, np.pi - np.pi/4, 0, 0, 10, 1])\n",
    "x2 = np.array([0, np.pi + np.pi/4, 0, 0, 10, 1])\n",
    "\n",
    "Quu0 = np.array([[0.]])\n",
    "\n",
    "tr_x, tr_u, val_x, val_u, te_x, te_u = cp.gen_train_data([x1, x2], [K1, K1], [Quu1, Quu1], \n",
    "                                                         num_traj=50, noisy_mass_est=0.05, traj_size=500)\n"
   ]
  },
  {
   "cell_type": "code",
   "execution_count": 73,
   "metadata": {
    "collapsed": false
   },
   "outputs": [],
   "source": [
    "df = pd.DataFrame(tr_x)"
   ]
  },
  {
   "cell_type": "code",
   "execution_count": 74,
   "metadata": {
    "collapsed": false
   },
   "outputs": [
    {
     "data": {
      "text/plain": [
       "0          NaN\n",
       "1          NaN\n",
       "2          NaN\n",
       "3          NaN\n",
       "4    10.698094\n",
       "5     0.948045\n",
       "dtype: float64"
      ]
     },
     "execution_count": 74,
     "metadata": {},
     "output_type": "execute_result"
    }
   ],
   "source": [
    "df.mean()"
   ]
  },
  {
   "cell_type": "code",
   "execution_count": 6,
   "metadata": {
    "collapsed": false
   },
   "outputs": [
    {
     "name": "stdout",
     "output_type": "stream",
     "text": [
      "... building the model\n",
      "... training\n",
      "epoch 5, minibatch 400/400, validation error 152.363436, test error of best model 155.189990\n",
      "epoch 10, minibatch 400/400, validation error 69.463424, test error of best model 81.084526\n",
      "epoch 15, minibatch 400/400, validation error 32.744904, test error of best model 50.901224\n",
      "epoch 20, minibatch 400/400, validation error 21.076555, test error of best model 42.601297\n",
      "epoch 25, minibatch 400/400, validation error 9.726372, test error of best model 32.830809\n",
      "epoch 30, minibatch 400/400, validation error 7.040158, test error of best model 30.906823\n",
      "epoch 35, minibatch 400/400, validation error 6.328752, test error of best model 30.586372\n",
      "epoch 40, minibatch 400/400, validation error 6.036291, test error of best model 30.505669\n",
      "epoch 45, minibatch 400/400, validation error 5.827494, test error of best model 30.406900\n",
      "epoch 50, minibatch 400/400, validation error 5.715784, test error of best model 30.388248\n",
      "epoch 55, minibatch 400/400, validation error 5.617145, test error of best model 30.348691\n",
      "epoch 60, minibatch 400/400, validation error 5.542037, test error of best model 30.314037\n",
      "epoch 65, minibatch 400/400, validation error 5.487359, test error of best model 30.287226\n",
      "epoch 70, minibatch 400/400, validation error 5.448510, test error of best model 30.268856\n",
      "epoch 75, minibatch 400/400, validation error 5.418390, test error of best model 30.253852\n",
      "epoch 80, minibatch 400/400, validation error 5.393014, test error of best model 30.239738\n",
      "epoch 85, minibatch 400/400, validation error 5.371699, test error of best model 30.228129\n",
      "epoch 90, minibatch 400/400, validation error 5.352609, test error of best model 30.217129\n",
      "epoch 95, minibatch 400/400, validation error 5.335051, test error of best model 30.206121\n",
      "epoch 100, minibatch 400/400, validation error 5.319483, test error of best model 30.196024\n",
      "Optimization complete. Best validation score of 5.319483 obtained at iteration 40000, with test performance 30.196024\n",
      "The code ran for 100 epochs, with 4.688377 epochs/sec\n"
     ]
    }
   ],
   "source": [
    "####################\n",
    "# TRAIN BASIC NNET #\n",
    "####################\n",
    "\n",
    "input1, policy1, tr_loss1, val_loss1, test_loss1 = nnet.train_NN(\n",
    "    tr_x, tr_u, val_x, val_u, te_x, te_u, # Training, validiation, and test data\n",
    "    n_layers=1, n_hidden=15, # Nnet parameters\n",
    "    learning_rule='adagrad', learning_rate=1.0, L1_reg=0.0, L2_reg=0.00001, batch_size=50, rho=0.9, #SGD parameters\n",
    "    n_epochs=100, print_interval=5, random_order=True # Training parameters\n",
    ")"
   ]
  },
  {
   "cell_type": "code",
   "execution_count": 7,
   "metadata": {
    "collapsed": false
   },
   "outputs": [
    {
     "name": "stdout",
     "output_type": "stream",
     "text": [
      "Final position for starting position x1\n",
      "[ -2.87231555   3.1328258    0.2382742    0.02342286  10.           1.        ]\n",
      "Final position for starting position x2\n",
      "[  2.07239899e+00   3.14232384e+00   1.80752219e-01  -8.48663257e-05\n",
      "   1.00000000e+01   1.00000000e+00]\n"
     ]
    },
    {
     "data": {
      "image/png": "[encoded data removed]",
      "text/plain": [
       "<matplotlib.figure.Figure at 0x10993e7d0>"
      ]
     },
     "metadata": {},
     "output_type": "display_data"
    },
    {
     "data": {
      "image/png": "[encoded data removed]",
      "text/plain": [
       "<matplotlib.figure.Figure at 0x109e31a90>"
      ]
     },
     "metadata": {},
     "output_type": "display_data"
    }
   ],
   "source": [
    "####################\n",
    "# TEST NNET POLICY #\n",
    "####################\n",
    "\n",
    "feed_forward = theano.function(\n",
    "    inputs=[input1],\n",
    "    outputs=policy1.output)\n",
    "\n",
    "x_ref = np.array([0, np.pi, 0, 0, 10, 1])\n",
    "\n",
    "# First starting position\n",
    "x_sim1 = np.zeros([6,500])\n",
    "x_sim1[:,0] = x1\n",
    "\n",
    "u_sim1 = np.zeros([500,])\n",
    "u_sim1[0] = feed_forward(x_sim1[:,0].reshape([1,6]))\n",
    "\n",
    "for t in range(499):\n",
    "    x_sim1[:,t+1] = cp.sim_cartpole_ext(x_sim1[:,t], u_sim1[t], dt)\n",
    "    u_sim1[t+1] = feed_forward(x_sim1[:,t+1].reshape([1,6]))\n",
    "\n",
    "x_lqr1 = np.zeros([6,500])\n",
    "x_lqr1[:,0] = x1\n",
    "\n",
    "u_lqr1 = np.zeros([500,])\n",
    "u_lqr1[0] = np.dot(K1, x_lqr1[:,0] - x_ref)\n",
    "for t in range(499):\n",
    "    x_lqr1[:,t+1] = cp.sim_cartpole_ext(x_lqr1[:,t], u_lqr1[t], dt)\n",
    "    u_lqr1[t+1] = np.dot(K1, x_lqr1[:,t] - x_ref)\n",
    "\n",
    "# Second starting position\n",
    "x_sim2 = np.zeros([6,500])\n",
    "x_sim2[:,0] = x2\n",
    "\n",
    "u_sim2 = np.zeros([500,])\n",
    "u_sim2[0] = feed_forward(x_sim2[:,0].reshape([1,6]))\n",
    "\n",
    "for t in range(499):\n",
    "    x_sim2[:,t+1] = cp.sim_cartpole_ext(x_sim2[:,t], u_sim2[t], dt)\n",
    "    u_sim2[t+1] = feed_forward(x_sim2[:,t+1].reshape([1,6]))\n",
    "\n",
    "x_lqr2 = np.zeros([6,500])\n",
    "x_lqr2[:,0] = x2\n",
    "\n",
    "u_lqr2 = np.zeros([500,])\n",
    "u_lqr2[0] = np.dot(K1, x_lqr2[:,0] - x_ref)\n",
    "for t in range(499):\n",
    "    x_lqr2[:,t+1] = cp.sim_cartpole_ext(x_lqr2[:,t], u_lqr2[t], dt)\n",
    "    u_lqr2[t+1] = np.dot(K1, x_lqr2[:,t] - x_ref)\n",
    "    \n",
    "tt = dt*np.arange(0,500)\n",
    "plt.figure(figsize=(10,7))\n",
    "plt.plot(tt, u_lqr1.flatten(), label=\"LQR action\")\n",
    "plt.plot(tt, u_sim1.flatten(), label=\"NNet action\")\n",
    "plt.title(\"Starting pole position pi - pi/4\")\n",
    "plt.legend()\n",
    "\n",
    "tt = dt*np.arange(0,500)\n",
    "plt.figure(figsize=(10,7))\n",
    "plt.plot(tt, u_lqr2.flatten(), label=\"LQR action\")\n",
    "plt.plot(tt, u_sim2.flatten(), label=\"NNet action\")\n",
    "plt.title(\"Starting pole position pi + pi/4\")\n",
    "plt.legend()\n",
    "\n",
    "print \"Final position for starting position x1\"\n",
    "print x_sim1[:,-1]\n",
    "print \"Final position for starting position x2\"\n",
    "print x_sim2[:,-1]"
   ]
  },
  {
   "cell_type": "markdown",
   "metadata": {},
   "source": [
    "# A Simple policy that is able to generalize"
   ]
  },
  {
   "cell_type": "code",
   "execution_count": 10,
   "metadata": {
    "collapsed": true
   },
   "outputs": [],
   "source": [
    "xref2 = np.array([0,np.pi,0,0,5,0.5])\n",
    "A2, B2, c2 = cp.linearize_cartpole_ext(xref2, uref, dt, eps)\n",
    "K2, P2, Quu2 = cp.lqr_infinite_horizon(A2, B2, Q, R)\n",
    "\n",
    "xref3 = np.array([0,np.pi,0,0,7.5,0.75])\n",
    "A3, B3, c3 = cp.linearize_cartpole_ext(xref3, uref, dt, eps)\n",
    "K3, P3, Quu3 = cp.lqr_infinite_horizon(A3, B3, Q, R)\n",
    "\n",
    "x3 = np.array([0, np.pi - np.pi/4, 0, 0, 5, 0.5])\n",
    "x4 = np.array([0, np.pi + np.pi/4, 0, 0, 5, 0.5])\n",
    "\n",
    "x5 = np.array([0, np.pi - np.pi/4, 0, 0, 7.5, 0.75])\n",
    "x6 = np.array([0, np.pi + np.pi/4, 0, 0, 7.5, 0.75])\n",
    "\n",
    "tr_x, tr_u, val_x, val_u, te_x, te_u = cp.gen_train_data(\n",
    "    [x1, x2, x3, x4, x5, x6], \n",
    "    [K1, K1, K2, K2, K3, K3], \n",
    "    [Quu1, Quu1, Quu2, Quu2, Quu3, Quu3], \n",
    "    num_traj=20, traj_size=500)\n"
   ]
  },
  {
   "cell_type": "code",
   "execution_count": 11,
   "metadata": {
    "collapsed": false
   },
   "outputs": [
    {
     "name": "stdout",
     "output_type": "stream",
     "text": [
      "... building the model\n",
      "... training\n",
      "epoch 10, minibatch 3000/3000, validation error 15.533261, test error of best model 36.656602\n",
      "epoch 20, minibatch 3000/3000, validation error 9.361827, test error of best model 36.945857\n",
      "epoch 30, minibatch 3000/3000, validation error 6.507068, test error of best model 34.293473\n",
      "epoch 40, minibatch 3000/3000, validation error 5.644815, test error of best model 34.468075\n",
      "epoch 50, minibatch 3000/3000, validation error 5.469679, test error of best model 34.692110\n",
      "epoch 60, minibatch 3000/3000, validation error 5.374895, test error of best model 34.839388\n",
      "epoch 70, minibatch 3000/3000, validation error 5.296933, test error of best model 34.944753\n",
      "epoch 80, minibatch 3000/3000, validation error 5.237841, test error of best model 34.986682\n",
      "epoch 90, minibatch 3000/3000, validation error 5.192044, test error of best model 35.066917\n",
      "epoch 100, minibatch 3000/3000, validation error 5.166642, test error of best model 35.171495\n",
      "epoch 110, minibatch 3000/3000, validation error 5.137244, test error of best model 35.259355\n",
      "epoch 120, minibatch 3000/3000, validation error 5.113549, test error of best model 35.327270\n",
      "epoch 130, minibatch 3000/3000, validation error 5.094821, test error of best model 35.380930\n",
      "epoch 140, minibatch 3000/3000, validation error 5.076920, test error of best model 35.419935\n",
      "epoch 150, minibatch 3000/3000, validation error 5.060351, test error of best model 35.464840\n",
      "epoch 160, minibatch 3000/3000, validation error 5.042038, test error of best model 35.541429\n",
      "epoch 170, minibatch 3000/3000, validation error 5.016937, test error of best model 35.601979\n",
      "epoch 180, minibatch 3000/3000, validation error 4.977450, test error of best model 35.637662\n",
      "epoch 190, minibatch 3000/3000, validation error 4.918466, test error of best model 35.612704\n",
      "epoch 200, minibatch 3000/3000, validation error 4.893763, test error of best model 35.701396\n",
      "Optimization complete. Best validation score of 4.893763 obtained at iteration 600000, with test performance 35.701396\n",
      "The code ran for 200 epochs, with 0.649289 epochs/sec\n"
     ]
    }
   ],
   "source": [
    "####################\n",
    "# TRAIN BASIC NNET #\n",
    "####################\n",
    "\n",
    "input2, policy2, tr_loss2, val_loss2, test_loss2 = nnet.train_NN(\n",
    "    tr_x, tr_u, val_x, val_u, te_x, te_u, # Training, validiation, and test data\n",
    "    n_layers=1, n_hidden=25, # Nnet parameters\n",
    "    learning_rule='adagrad', learning_rate=1.0, L1_reg=0.0, L2_reg=0.0000005, batch_size=20, rho=0.9, #SGD parameters\n",
    "    n_epochs=200, print_interval=10, random_order=True # Training parameters\n",
    ")\n"
   ]
  },
  {
   "cell_type": "code",
   "execution_count": 13,
   "metadata": {
    "collapsed": false
   },
   "outputs": [
    {
     "name": "stdout",
     "output_type": "stream",
     "text": [
      "4.97087047082\n"
     ]
    },
    {
     "data": {
      "image/png": "[encoded data removed]",
      "text/plain": [
       "<matplotlib.figure.Figure at 0x10d3cc050>"
      ]
     },
     "metadata": {},
     "output_type": "display_data"
    }
   ],
   "source": [
    "plt.figure(figsize=(10,7))\n",
    "plt.plot(tr_loss2, label=\"Training loss\")\n",
    "plt.plot(val_loss2, label=\"Validation loss\")\n",
    "plt.legend()\n",
    "print np.min(tr_loss2)\n"
   ]
  },
  {
   "cell_type": "code",
   "execution_count": 14,
   "metadata": {
    "collapsed": false
   },
   "outputs": [
    {
     "name": "stdout",
     "output_type": "stream",
     "text": [
      "Final position for starting position x1\n",
      "[ nan  nan  nan  nan  10.   1.]\n",
      "Final position for starting position x2\n",
      "[  1.12265783e-01   3.14159873e+00   9.98463111e-05  -1.45991576e-06\n",
      "   5.00000000e+00   5.00000000e-01]\n",
      "Final position for test starting position\n",
      "[-0.02978593  3.14952838 -0.09178296 -0.01643456  7.          0.6       ]\n"
     ]
    },
    {
     "data": {
      "image/png": "[encoded data removed]",
      "text/plain": [
       "<matplotlib.figure.Figure at 0x1097524d0>"
      ]
     },
     "metadata": {},
     "output_type": "display_data"
    },
    {
     "data": {
      "image/png": "[encoded data removed]",
      "text/plain": [
       "<matplotlib.figure.Figure at 0x1095d9590>"
      ]
     },
     "metadata": {},
     "output_type": "display_data"
    },
    {
     "data": {
      "image/png": "[encoded data removed]",
      "text/plain": [
       "<matplotlib.figure.Figure at 0x109ed35d0>"
      ]
     },
     "metadata": {},
     "output_type": "display_data"
    }
   ],
   "source": [
    "##########################\n",
    "# TEST THE POLICY POLICY #\n",
    "##########################\n",
    "\n",
    "feed_forward = theano.function(\n",
    "    inputs=[input2],\n",
    "    outputs=policy2.output)\n",
    "\n",
    "x_ref1 = np.array([0, np.pi, 0, 0, 10, 1])\n",
    "x_ref2 = np.array([0, np.pi, 0, 0, 5, 0.5])\n",
    "\n",
    "# First starting position\n",
    "x_sim1 = np.zeros([6,500])\n",
    "x_sim1[:,0] = x1\n",
    "\n",
    "u_sim1 = np.zeros([500,])\n",
    "u_sim1[0] = feed_forward(x_sim1[:,0].reshape([1,6]))\n",
    "\n",
    "for t in range(499):\n",
    "    x_sim1[:,t+1] = cp.sim_cartpole_ext(x_sim1[:,t], u_sim1[t], dt)\n",
    "    u_sim1[t+1] = feed_forward(x_sim1[:,t+1].reshape([1,6]))\n",
    "\n",
    "x_lqr1 = np.zeros([6,500])\n",
    "x_lqr1[:,0] = x1\n",
    "\n",
    "u_lqr1 = np.zeros([500,])\n",
    "u_lqr1[0] = np.dot(K1, x_lqr1[:,0] - x_ref)\n",
    "for t in range(499):\n",
    "    x_lqr1[:,t+1] = cp.sim_cartpole_ext(x_lqr1[:,t], u_lqr1[t], dt)\n",
    "    u_lqr1[t+1] = np.dot(K1, x_lqr1[:,t] - x_ref)\n",
    "\n",
    "# Second starting position\n",
    "x_sim2 = np.zeros([6,500])\n",
    "x_sim2[:,0] = x4\n",
    "\n",
    "u_sim2 = np.zeros([500,])\n",
    "u_sim2[0] = feed_forward(x_sim2[:,0].reshape([1,6]))\n",
    "\n",
    "for t in range(499):\n",
    "    x_sim2[:,t+1] = cp.sim_cartpole_ext(x_sim2[:,t], u_sim2[t], dt)\n",
    "    u_sim2[t+1] = feed_forward(x_sim2[:,t+1].reshape([1,6]))\n",
    "\n",
    "x_lqr2 = np.zeros([6,500])\n",
    "x_lqr2[:,0] = x4\n",
    "\n",
    "u_lqr2 = np.zeros([500,])\n",
    "u_lqr2[0] = np.dot(K1, x_lqr2[:,0] - x_ref2)\n",
    "for t in range(499):\n",
    "    x_lqr2[:,t+1] = cp.sim_cartpole_ext(x_lqr2[:,t], u_lqr2[t], dt)\n",
    "    u_lqr2[t+1] = np.dot(K2, x_lqr2[:,t] - x_ref2)\n",
    "\n",
    "# Test starting position\n",
    "x_sim3 = np.zeros([6,500])\n",
    "x_sim3[:,0] = np.array([0, np.pi - np.pi/4, 0, 0, 7, 0.6])\n",
    "\n",
    "u_sim3 = np.zeros([500,])\n",
    "u_sim3[0] = feed_forward(x_sim3[:,0].reshape([1,6]))\n",
    "\n",
    "for t in range(499):\n",
    "    x_sim3[:,t+1] = cp.sim_cartpole_ext(x_sim3[:,t], u_sim3[t], dt)\n",
    "    u_sim3[t+1] = feed_forward(x_sim3[:,t+1].reshape([1,6]))\n",
    "\n",
    "tt = dt*np.arange(0,500)\n",
    "plt.figure(figsize=(10,7))\n",
    "plt.plot(tt, u_lqr1.flatten(), label=\"LQR action\")\n",
    "plt.plot(tt, u_sim1.flatten(), label=\"NNet action\")\n",
    "plt.title(\"Starting pole position 1\")\n",
    "plt.legend()\n",
    "\n",
    "tt = dt*np.arange(0,500)\n",
    "plt.figure(figsize=(10,7))\n",
    "plt.plot(tt, u_lqr2.flatten(), label=\"LQR action\")\n",
    "plt.plot(tt, u_sim2.flatten(), label=\"NNet action\")\n",
    "plt.title(\"Starting pole position 2\")\n",
    "plt.legend()\n",
    "\n",
    "tt = dt*np.arange(0,500)\n",
    "plt.figure(figsize=(10,7))\n",
    "plt.plot(tt, u_sim3.flatten(), label=\"NNet action\")\n",
    "plt.title(\"Test position\")\n",
    "plt.legend()\n",
    "\n",
    "print \"Final position for starting position x1\"\n",
    "print x_sim1[:,-1]\n",
    "print \"Final position for starting position x2\"\n",
    "print x_sim2[:,-1]\n",
    "print \"Final position for test starting position\"\n",
    "print x_sim3[:,-1]\n"
   ]
  },
  {
   "cell_type": "code",
   "execution_count": 15,
   "metadata": {
    "collapsed": false
   },
   "outputs": [],
   "source": [
    "xref4 = np.array([0,np.pi,0,0,15,1.5])\n",
    "A4, B4, c4 = cp.linearize_cartpole_ext(xref4, uref, dt, eps)\n",
    "K4, P4, Quu4 = cp.lqr_infinite_horizon(A4, B4, Q, R)\n",
    "\n",
    "xref5 = np.array([0,np.pi,0,0,20,2.0])\n",
    "A5, B5, c5 = cp.linearize_cartpole_ext(xref5, uref, dt, eps)\n",
    "K5, P5, Quu5 = cp.lqr_infinite_horizon(A5, B5, Q, R)\n",
    "\n",
    "x7 = np.array([0, np.pi - np.pi/4, 0, 0, 15, 1.5])\n",
    "x8 = np.array([0, np.pi + np.pi/4, 0, 0, 15, 1.5])\n",
    "\n",
    "x9 = np.array([0, np.pi - np.pi/4, 0, 0, 20, 2.0])\n",
    "x10 = np.array([0, np.pi + np.pi/4, 0, 0, 20, 2.0])\n",
    "\n",
    "\n",
    "tr_x, tr_u, val_x, val_u, te_x, te_u = cp.gen_train_data(\n",
    "    [x1, x2, x3, x4, x5, x6, x7, x8, x9, x10], \n",
    "    [K1, K1, K2, K2, K3, K3, K4, K4, K5, K5], \n",
    "    [Quu1, Quu1, Quu2, Quu2, Quu3, Quu3, Quu4, Quu4, Quu5, Quu5], \n",
    "    num_traj=20, traj_size=500)\n"
   ]
  },
  {
   "cell_type": "code",
   "execution_count": 22,
   "metadata": {
    "collapsed": false
   },
   "outputs": [
    {
     "name": "stdout",
     "output_type": "stream",
     "text": [
      "... building the model\n",
      "... training\n",
      "epoch 5, minibatch 2000/2000, validation error 173.541026, test error of best model 173.967018\n",
      "epoch 10, minibatch 2000/2000, validation error 83.874521, test error of best model 93.235520\n",
      "epoch 15, minibatch 2000/2000, validation error 51.391425, test error of best model 67.768607\n",
      "epoch 20, minibatch 2000/2000, validation error 39.556078, test error of best model 59.906113\n",
      "epoch 25, minibatch 2000/2000, validation error 34.481543, test error of best model 57.017930\n",
      "epoch 30, minibatch 2000/2000, validation error 32.333352, test error of best model 56.196232\n",
      "epoch 35, minibatch 2000/2000, validation error 28.707644, test error of best model 52.399907\n",
      "epoch 40, minibatch 2000/2000, validation error 28.065036, test error of best model 50.880151\n",
      "epoch 45, minibatch 2000/2000, validation error 28.207521, test error of best model 50.880151\n",
      "epoch 50, minibatch 2000/2000, validation error 24.911166, test error of best model 49.246741\n",
      "epoch 55, minibatch 2000/2000, validation error 28.489938, test error of best model 49.246741\n",
      "epoch 60, minibatch 2000/2000, validation error 20.417792, test error of best model 44.410094\n",
      "epoch 65, minibatch 2000/2000, validation error 22.767035, test error of best model 43.702913\n",
      "epoch 70, minibatch 2000/2000, validation error 15.681529, test error of best model 39.285965\n",
      "epoch 75, minibatch 2000/2000, validation error 25.187791, test error of best model 39.285965\n",
      "epoch 80, minibatch 2000/2000, validation error 19.550735, test error of best model 39.285965\n",
      "epoch 85, minibatch 2000/2000, validation error 17.232855, test error of best model 39.285965\n",
      "epoch 90, minibatch 2000/2000, validation error 14.082894, test error of best model 37.531619\n",
      "epoch 95, minibatch 2000/2000, validation error 16.509004, test error of best model 37.463843\n",
      "epoch 100, minibatch 2000/2000, validation error 21.126281, test error of best model 37.463843\n",
      "epoch 105, minibatch 2000/2000, validation error 11.586153, test error of best model 35.043711\n",
      "epoch 110, minibatch 2000/2000, validation error 11.247449, test error of best model 34.746816\n",
      "epoch 115, minibatch 2000/2000, validation error 37.030283, test error of best model 34.438499\n",
      "epoch 120, minibatch 2000/2000, validation error 19.367327, test error of best model 34.438499\n",
      "epoch 125, minibatch 2000/2000, validation error 18.361266, test error of best model 34.438499\n",
      "epoch 130, minibatch 2000/2000, validation error 11.969371, test error of best model 34.438499\n",
      "epoch 135, minibatch 2000/2000, validation error 13.788276, test error of best model 34.438499\n",
      "epoch 140, minibatch 2000/2000, validation error 13.945183, test error of best model 34.438499\n",
      "epoch 145, minibatch 2000/2000, validation error 14.008680, test error of best model 34.438499\n",
      "epoch 150, minibatch 2000/2000, validation error 12.822006, test error of best model 34.438499\n",
      "epoch 155, minibatch 2000/2000, validation error 12.133900, test error of best model 34.438499\n",
      "epoch 160, minibatch 2000/2000, validation error 12.520258, test error of best model 34.438499\n",
      "epoch 165, minibatch 2000/2000, validation error 12.653323, test error of best model 34.438499\n",
      "epoch 170, minibatch 2000/2000, validation error 12.929420, test error of best model 34.438499\n",
      "epoch 175, minibatch 2000/2000, validation error 13.039967, test error of best model 34.438499\n",
      "epoch 180, minibatch 2000/2000, validation error 13.089529, test error of best model 34.438499\n",
      "epoch 185, minibatch 2000/2000, validation error 12.814180, test error of best model 34.438499\n",
      "epoch 190, minibatch 2000/2000, validation error 12.769917, test error of best model 34.438499\n",
      "epoch 195, minibatch 2000/2000, validation error 12.713442, test error of best model 34.438499\n",
      "epoch 200, minibatch 2000/2000, validation error 13.068116, test error of best model 34.438499\n",
      "epoch 205, minibatch 2000/2000, validation error 12.684445, test error of best model 34.438499\n",
      "epoch 210, minibatch 2000/2000, validation error 11.709355, test error of best model 34.438499\n",
      "epoch 215, minibatch 2000/2000, validation error 11.594700, test error of best model 33.792415\n",
      "epoch 220, minibatch 2000/2000, validation error 8.945363, test error of best model 32.849785\n",
      "epoch 225, minibatch 2000/2000, validation error 11.594519, test error of best model 32.837662\n",
      "epoch 230, minibatch 2000/2000, validation error 9.175143, test error of best model 32.837662\n",
      "epoch 235, minibatch 2000/2000, validation error 8.774342, test error of best model 32.846722\n",
      "epoch 240, minibatch 2000/2000, validation error 8.531105, test error of best model 32.594823\n",
      "epoch 245, minibatch 2000/2000, validation error 9.499648, test error of best model 32.594823\n",
      "epoch 250, minibatch 2000/2000, validation error 8.451867, test error of best model 32.502195\n",
      "epoch 255, minibatch 2000/2000, validation error 8.357260, test error of best model 32.404132\n",
      "epoch 260, minibatch 2000/2000, validation error 8.153393, test error of best model 32.200809\n",
      "epoch 265, minibatch 2000/2000, validation error 8.117802, test error of best model 32.150568\n",
      "epoch 270, minibatch 2000/2000, validation error 8.205149, test error of best model 32.150568\n",
      "epoch 275, minibatch 2000/2000, validation error 8.146618, test error of best model 32.162255\n",
      "epoch 280, minibatch 2000/2000, validation error 8.152753, test error of best model 32.046688\n",
      "epoch 285, minibatch 2000/2000, validation error 8.475875, test error of best model 32.031324\n",
      "epoch 290, minibatch 2000/2000, validation error 8.579264, test error of best model 31.983171\n",
      "epoch 295, minibatch 2000/2000, validation error 9.463978, test error of best model 31.983171\n",
      "epoch 300, minibatch 2000/2000, validation error 9.252475, test error of best model 31.983171\n",
      "epoch 305, minibatch 2000/2000, validation error 9.491850, test error of best model 31.983171\n",
      "epoch 310, minibatch 2000/2000, validation error 10.244080, test error of best model 31.983171\n",
      "epoch 315, minibatch 2000/2000, validation error 8.725557, test error of best model 31.983171\n",
      "epoch 320, minibatch 2000/2000, validation error 8.046813, test error of best model 31.983171\n",
      "epoch 325, minibatch 2000/2000, validation error 7.918684, test error of best model 31.983171\n",
      "epoch 330, minibatch 2000/2000, validation error 7.774298, test error of best model 32.000316\n",
      "epoch 335, minibatch 2000/2000, validation error 7.933705, test error of best model 32.000316\n",
      "epoch 340, minibatch 2000/2000, validation error 7.922883, test error of best model 32.000316\n",
      "epoch 345, minibatch 2000/2000, validation error 7.807923, test error of best model 32.104697\n",
      "epoch 350, minibatch 2000/2000, validation error 7.816729, test error of best model 32.104697\n",
      "epoch 355, minibatch 2000/2000, validation error 7.528591, test error of best model 32.029264\n",
      "epoch 360, minibatch 2000/2000, validation error 7.821986, test error of best model 32.029264\n",
      "epoch 365, minibatch 2000/2000, validation error 8.263524, test error of best model 31.917861\n",
      "epoch 370, minibatch 2000/2000, validation error 8.817564, test error of best model 31.917861\n",
      "epoch 375, minibatch 2000/2000, validation error 9.143737, test error of best model 31.917861\n",
      "epoch 380, minibatch 2000/2000, validation error 8.608353, test error of best model 31.917861\n",
      "epoch 385, minibatch 2000/2000, validation error 7.313350, test error of best model 32.175893\n",
      "epoch 390, minibatch 2000/2000, validation error 7.237254, test error of best model 31.436268\n",
      "epoch 395, minibatch 2000/2000, validation error 10.175616, test error of best model 31.436268\n",
      "epoch 400, minibatch 2000/2000, validation error 7.702720, test error of best model 31.436268\n",
      "epoch 405, minibatch 2000/2000, validation error 8.970839, test error of best model 31.436268\n",
      "epoch 410, minibatch 2000/2000, validation error 8.048324, test error of best model 31.436268\n",
      "epoch 415, minibatch 2000/2000, validation error 7.263491, test error of best model 31.436268\n",
      "epoch 420, minibatch 2000/2000, validation error 7.358833, test error of best model 31.436268\n",
      "epoch 425, minibatch 2000/2000, validation error 7.165803, test error of best model 31.436268\n",
      "epoch 430, minibatch 2000/2000, validation error 7.060370, test error of best model 31.436268\n",
      "epoch 435, minibatch 2000/2000, validation error 6.820292, test error of best model 31.436268\n",
      "epoch 440, minibatch 2000/2000, validation error 6.689915, test error of best model 31.436268\n",
      "epoch 445, minibatch 2000/2000, validation error 6.568843, test error of best model 32.016047\n",
      "epoch 450, minibatch 2000/2000, validation error 6.490385, test error of best model 32.022289\n",
      "epoch 455, minibatch 2000/2000, validation error 6.390181, test error of best model 31.973577\n",
      "epoch 460, minibatch 2000/2000, validation error 6.358856, test error of best model 31.875897\n",
      "epoch 465, minibatch 2000/2000, validation error 6.318123, test error of best model 31.837377\n",
      "epoch 470, minibatch 2000/2000, validation error 6.222230, test error of best model 31.816050\n",
      "epoch 475, minibatch 2000/2000, validation error 6.340949, test error of best model 31.799008\n",
      "epoch 480, minibatch 2000/2000, validation error 6.155956, test error of best model 31.830937\n",
      "epoch 485, minibatch 2000/2000, validation error 6.226874, test error of best model 31.802826\n",
      "epoch 490, minibatch 2000/2000, validation error 6.460969, test error of best model 31.802826\n",
      "epoch 495, minibatch 2000/2000, validation error 6.335306, test error of best model 31.802826\n",
      "epoch 500, minibatch 2000/2000, validation error 6.360041, test error of best model 31.802826\n",
      "epoch 505, minibatch 2000/2000, validation error 6.764344, test error of best model 31.802826\n",
      "epoch 510, minibatch 2000/2000, validation error 6.664576, test error of best model 31.802826\n",
      "epoch 515, minibatch 2000/2000, validation error 7.010523, test error of best model 31.802826\n",
      "epoch 520, minibatch 2000/2000, validation error 7.743186, test error of best model 31.802826\n",
      "epoch 525, minibatch 2000/2000, validation error 7.703905, test error of best model 31.802826\n",
      "epoch 530, minibatch 2000/2000, validation error 8.844149, test error of best model 31.802826\n",
      "epoch 535, minibatch 2000/2000, validation error 8.724929, test error of best model 31.802826\n",
      "epoch 540, minibatch 2000/2000, validation error 8.616388, test error of best model 31.802826\n",
      "epoch 545, minibatch 2000/2000, validation error 8.071065, test error of best model 31.802826\n",
      "epoch 550, minibatch 2000/2000, validation error 7.749056, test error of best model 31.802826\n",
      "epoch 555, minibatch 2000/2000, validation error 6.610274, test error of best model 31.802826\n",
      "epoch 560, minibatch 2000/2000, validation error 5.981115, test error of best model 32.280972\n",
      "epoch 565, minibatch 2000/2000, validation error 5.846772, test error of best model 32.183700\n",
      "epoch 570, minibatch 2000/2000, validation error 6.340557, test error of best model 32.183700\n",
      "epoch 575, minibatch 2000/2000, validation error 5.822107, test error of best model 32.169639\n",
      "epoch 580, minibatch 2000/2000, validation error 5.705711, test error of best model 31.863660\n",
      "epoch 585, minibatch 2000/2000, validation error 5.502675, test error of best model 31.865200\n",
      "epoch 590, minibatch 2000/2000, validation error 5.341722, test error of best model 31.732718\n",
      "epoch 595, minibatch 2000/2000, validation error 5.169107, test error of best model 31.577997\n",
      "epoch 600, minibatch 2000/2000, validation error 5.078840, test error of best model 31.572788\n",
      "epoch 605, minibatch 2000/2000, validation error 5.046639, test error of best model 31.597390\n",
      "epoch 610, minibatch 2000/2000, validation error 5.089789, test error of best model 31.597390\n",
      "epoch 615, minibatch 2000/2000, validation error 5.098359, test error of best model 31.597390\n",
      "epoch 620, minibatch 2000/2000, validation error 5.146169, test error of best model 31.577751\n",
      "epoch 625, minibatch 2000/2000, validation error 4.897316, test error of best model 31.537340\n",
      "epoch 630, minibatch 2000/2000, validation error 4.902216, test error of best model 31.532688\n",
      "epoch 635, minibatch 2000/2000, validation error 4.901835, test error of best model 31.528518\n",
      "epoch 640, minibatch 2000/2000, validation error 4.975789, test error of best model 31.528518\n",
      "epoch 645, minibatch 2000/2000, validation error 5.027816, test error of best model 31.528518\n",
      "epoch 650, minibatch 2000/2000, validation error 5.050139, test error of best model 31.528518\n",
      "epoch 655, minibatch 2000/2000, validation error 4.768241, test error of best model 31.408542\n",
      "epoch 660, minibatch 2000/2000, validation error 4.632108, test error of best model 31.300126\n",
      "epoch 665, minibatch 2000/2000, validation error 4.922271, test error of best model 31.300126\n",
      "epoch 670, minibatch 2000/2000, validation error 4.949148, test error of best model 31.336931\n",
      "epoch 675, minibatch 2000/2000, validation error 4.670773, test error of best model 31.336931\n",
      "epoch 680, minibatch 2000/2000, validation error 4.734362, test error of best model 31.336931\n",
      "epoch 685, minibatch 2000/2000, validation error 4.980401, test error of best model 31.336931\n",
      "epoch 690, minibatch 2000/2000, validation error 4.968760, test error of best model 31.336931\n",
      "epoch 695, minibatch 2000/2000, validation error 5.141766, test error of best model 31.336931\n",
      "epoch 700, minibatch 2000/2000, validation error 5.139629, test error of best model 31.336931\n",
      "epoch 705, minibatch 2000/2000, validation error 4.854157, test error of best model 31.336931\n",
      "epoch 710, minibatch 2000/2000, validation error 4.836545, test error of best model 31.336931\n",
      "epoch 715, minibatch 2000/2000, validation error 4.793106, test error of best model 31.336931\n",
      "epoch 720, minibatch 2000/2000, validation error 4.716176, test error of best model 31.336931\n",
      "epoch 725, minibatch 2000/2000, validation error 4.879980, test error of best model 31.336931\n",
      "epoch 730, minibatch 2000/2000, validation error 5.077354, test error of best model 31.336931\n",
      "epoch 735, minibatch 2000/2000, validation error 5.000533, test error of best model 31.336931\n",
      "epoch 740, minibatch 2000/2000, validation error 5.096575, test error of best model 31.336931\n",
      "epoch 745, minibatch 2000/2000, validation error 4.939972, test error of best model 31.336931\n",
      "epoch 750, minibatch 2000/2000, validation error 4.636383, test error of best model 31.336931\n",
      "epoch 755, minibatch 2000/2000, validation error 4.594928, test error of best model 31.385914\n",
      "epoch 760, minibatch 2000/2000, validation error 4.868084, test error of best model 31.397353\n",
      "epoch 765, minibatch 2000/2000, validation error 4.895843, test error of best model 31.397353\n",
      "epoch 770, minibatch 2000/2000, validation error 4.949121, test error of best model 31.397353\n",
      "epoch 775, minibatch 2000/2000, validation error 4.978078, test error of best model 31.397353\n",
      "epoch 780, minibatch 2000/2000, validation error 4.841813, test error of best model 31.397353\n",
      "epoch 785, minibatch 2000/2000, validation error 5.034884, test error of best model 31.397353\n",
      "epoch 790, minibatch 2000/2000, validation error 4.793052, test error of best model 31.397353\n",
      "epoch 795, minibatch 2000/2000, validation error 4.807229, test error of best model 31.397353\n",
      "epoch 800, minibatch 2000/2000, validation error 4.779507, test error of best model 31.397353\n",
      "epoch 805, minibatch 2000/2000, validation error 4.709010, test error of best model 31.397353\n",
      "epoch 810, minibatch 2000/2000, validation error 4.724290, test error of best model 31.397353\n",
      "epoch 815, minibatch 2000/2000, validation error 4.668604, test error of best model 31.397353\n",
      "epoch 820, minibatch 2000/2000, validation error 4.670217, test error of best model 31.397353\n",
      "epoch 825, minibatch 2000/2000, validation error 4.689589, test error of best model 31.397353\n",
      "epoch 830, minibatch 2000/2000, validation error 4.623914, test error of best model 31.397353\n",
      "epoch 835, minibatch 2000/2000, validation error 4.672850, test error of best model 31.397353\n",
      "epoch 840, minibatch 2000/2000, validation error 5.213805, test error of best model 31.397353\n",
      "epoch 845, minibatch 2000/2000, validation error 4.639006, test error of best model 31.397353\n",
      "epoch 850, minibatch 2000/2000, validation error 4.660258, test error of best model 31.397353\n",
      "epoch 855, minibatch 2000/2000, validation error 5.707343, test error of best model 31.397353\n",
      "epoch 860, minibatch 2000/2000, validation error 6.448825, test error of best model 31.397353\n",
      "epoch 865, minibatch 2000/2000, validation error 6.316811, test error of best model 31.397353\n",
      "epoch 870, minibatch 2000/2000, validation error 6.213636, test error of best model 31.397353\n",
      "epoch 875, minibatch 2000/2000, validation error 6.679692, test error of best model 31.397353\n",
      "epoch 880, minibatch 2000/2000, validation error 6.425184, test error of best model 31.397353\n",
      "epoch 885, minibatch 2000/2000, validation error 6.290786, test error of best model 31.397353\n",
      "epoch 890, minibatch 2000/2000, validation error 6.450633, test error of best model 31.397353\n",
      "epoch 895, minibatch 2000/2000, validation error 6.163738, test error of best model 31.397353\n",
      "epoch 900, minibatch 2000/2000, validation error 6.320452, test error of best model 31.397353\n",
      "epoch 905, minibatch 2000/2000, validation error 6.123443, test error of best model 31.397353\n",
      "epoch 910, minibatch 2000/2000, validation error 6.237225, test error of best model 31.397353\n",
      "epoch 915, minibatch 2000/2000, validation error 6.194214, test error of best model 31.397353\n",
      "epoch 920, minibatch 2000/2000, validation error 6.066284, test error of best model 31.397353\n",
      "epoch 925, minibatch 2000/2000, validation error 6.064108, test error of best model 31.397353\n",
      "epoch 930, minibatch 2000/2000, validation error 6.069534, test error of best model 31.397353\n",
      "epoch 935, minibatch 2000/2000, validation error 5.877275, test error of best model 31.397353\n",
      "epoch 940, minibatch 2000/2000, validation error 6.076491, test error of best model 31.397353\n",
      "epoch 945, minibatch 2000/2000, validation error 5.958426, test error of best model 31.397353\n",
      "epoch 950, minibatch 2000/2000, validation error 5.916236, test error of best model 31.397353\n",
      "epoch 955, minibatch 2000/2000, validation error 6.125246, test error of best model 31.397353\n",
      "epoch 960, minibatch 2000/2000, validation error 5.812851, test error of best model 31.397353\n",
      "epoch 965, minibatch 2000/2000, validation error 5.710815, test error of best model 31.397353\n",
      "epoch 970, minibatch 2000/2000, validation error 5.621994, test error of best model 31.397353\n",
      "epoch 975, minibatch 2000/2000, validation error 5.956727, test error of best model 31.397353\n",
      "epoch 980, minibatch 2000/2000, validation error 6.286850, test error of best model 31.397353\n",
      "epoch 985, minibatch 2000/2000, validation error 6.335214, test error of best model 31.397353\n",
      "epoch 990, minibatch 2000/2000, validation error 5.391968, test error of best model 31.397353\n",
      "epoch 995, minibatch 2000/2000, validation error 5.613317, test error of best model 31.397353\n",
      "epoch 1000, minibatch 2000/2000, validation error 6.276761, test error of best model 31.397353\n",
      "Optimization complete. Best validation score of 4.577726 obtained at iteration 1512000, with test performance 31.397353\n",
      "The code ran for 1000 epochs, with 1.019296 epochs/sec\n"
     ]
    }
   ],
   "source": [
    "####################\n",
    "# TRAIN BASIC NNET #\n",
    "####################\n",
    "\n",
    "input3, policy3, tr_loss3, val_loss3, test_loss3 = nnet.train_NN(\n",
    "    tr_x, tr_u, val_x, val_u, te_x, te_u, # Training, validiation, and test data\n",
    "    n_layers=1, n_hidden=25, # Nnet parameters\n",
    "    learning_rule='rmsprop', learning_rate=0.005, L1_reg=0., L2_reg=0.00001, batch_size=50, rho=0.9, #SGD parameters\n",
    "    n_epochs=1000, print_interval=5, random_order=True # Training parameters\n",
    ")"
   ]
  },
  {
   "cell_type": "code",
   "execution_count": 23,
   "metadata": {
    "collapsed": false
   },
   "outputs": [
    {
     "name": "stdout",
     "output_type": "stream",
     "text": [
      "7.40282845785\n"
     ]
    },
    {
     "data": {
      "image/png": "[encoded data removed]",
      "text/plain": [
       "<matplotlib.figure.Figure at 0x109efde50>"
      ]
     },
     "metadata": {},
     "output_type": "display_data"
    }
   ],
   "source": [
    "plt.figure(figsize=(10,7))\n",
    "plt.plot(tr_loss3, label=\"Training loss\")\n",
    "plt.plot(val_loss3, label=\"Validation loss\")\n",
    "plt.legend()\n",
    "print np.min(tr_loss3)"
   ]
  },
  {
   "cell_type": "code",
   "execution_count": 27,
   "metadata": {
    "collapsed": false
   },
   "outputs": [
    {
     "name": "stdout",
     "output_type": "stream",
     "text": [
      "Final position for starting position x1\n",
      "[  1.90379734e+00   3.14159508e+00   3.79154275e-04   5.01138359e-06\n",
      "   2.00000000e+01   2.00000000e+00]\n",
      "Final position for starting position x2\n",
      "[  5.63757372e-01   3.14159345e+00   3.55508243e-05  -3.03353063e-07\n",
      "   5.00000000e+00   5.00000000e-01]\n",
      "Final position for test starting position\n",
      "[  3.65512958e+00   3.14263181e+00  -2.13405425e-02   8.17296398e-04\n",
      "   2.00000000e+01   2.00000000e+00]\n"
     ]
    },
    {
     "data": {
      "image/png": "[encoded data removed]",
      "text/plain": [
       "<matplotlib.figure.Figure at 0x10efd3790>"
      ]
     },
     "metadata": {},
     "output_type": "display_data"
    },
    {
     "data": {
      "image/png": "[encoded data removed]",
      "text/plain": [
       "<matplotlib.figure.Figure at 0x10ccff210>"
      ]
     },
     "metadata": {},
     "output_type": "display_data"
    },
    {
     "data": {
      "image/png": "[encoded data removed]",
      "text/plain": [
       "<matplotlib.figure.Figure at 0x10c22c510>"
      ]
     },
     "metadata": {},
     "output_type": "display_data"
    }
   ],
   "source": [
    "##########################\n",
    "# TEST THE POLICY POLICY #\n",
    "##########################\n",
    "\n",
    "feed_forward = theano.function(\n",
    "    inputs=[input3],\n",
    "    outputs=policy3.output)\n",
    "\n",
    "x_ref1 = np.array([0, np.pi, 0, 0, 20, 2.])\n",
    "x_ref2 = np.array([0, np.pi, 0, 0, 5, 0.5])\n",
    "\n",
    "# First starting position\n",
    "x_sim1 = np.zeros([6,500])\n",
    "x_sim1[:,0] = x10\n",
    "\n",
    "u_sim1 = np.zeros([500,])\n",
    "u_sim1[0] = feed_forward(x_sim1[:,0].reshape([1,6]))\n",
    "\n",
    "for t in range(499):\n",
    "    x_sim1[:,t+1] = cp.sim_cartpole_ext(x_sim1[:,t], u_sim1[t], dt)\n",
    "    u_sim1[t+1] = feed_forward(x_sim1[:,t+1].reshape([1,6]))\n",
    "\n",
    "x_lqr1 = np.zeros([6,500])\n",
    "x_lqr1[:,0] = x10\n",
    "\n",
    "u_lqr1 = np.zeros([500,])\n",
    "u_lqr1[0] = np.dot(K5, x_lqr1[:,0] - x_ref1)\n",
    "for t in range(499):\n",
    "    x_lqr1[:,t+1] = cp.sim_cartpole_ext(x_lqr1[:,t], u_lqr1[t], dt)\n",
    "    u_lqr1[t+1] = np.dot(K5, x_lqr1[:,t] - x_ref1)\n",
    "\n",
    "# Second starting position\n",
    "x_sim2 = np.zeros([6,500])\n",
    "x_sim2[:,0] = x3\n",
    "\n",
    "u_sim2 = np.zeros([500,])\n",
    "u_sim2[0] = feed_forward(x_sim2[:,0].reshape([1,6]))\n",
    "\n",
    "for t in range(499):\n",
    "    x_sim2[:,t+1] = cp.sim_cartpole_ext(x_sim2[:,t], u_sim2[t], dt)\n",
    "    u_sim2[t+1] = feed_forward(x_sim2[:,t+1].reshape([1,6]))\n",
    "\n",
    "x_lqr2 = np.zeros([6,500])\n",
    "x_lqr2[:,0] = x3\n",
    "\n",
    "u_lqr2 = np.zeros([500,])\n",
    "u_lqr2[0] = np.dot(K1, x_lqr2[:,0] - x_ref2)\n",
    "for t in range(499):\n",
    "    x_lqr2[:,t+1] = cp.sim_cartpole_ext(x_lqr2[:,t], u_lqr2[t], dt)\n",
    "    u_lqr2[t+1] = np.dot(K2, x_lqr2[:,t] - x_ref2)\n",
    "\n",
    "# Test position\n",
    "x_sim3 = np.zeros([6,500])\n",
    "x_sim3[:,0] = np.array([0, np.pi - np.pi/5, 0, 0, 20, 2.0])\n",
    "\n",
    "u_sim3 = np.zeros([500,])\n",
    "u_sim3[0] = feed_forward(x_sim3[:,0].reshape([1,6]))\n",
    "\n",
    "for t in range(499):\n",
    "    x_sim3[:,t+1] = cp.sim_cartpole_ext(x_sim3[:,t], u_sim3[t], dt)\n",
    "    u_sim3[t+1] = feed_forward(x_sim3[:,t+1].reshape([1,6]))\n",
    "\n",
    "tt = dt*np.arange(0,500)\n",
    "plt.figure(figsize=(10,7))\n",
    "plt.plot(tt, u_lqr1.flatten(), label=\"LQR action\")\n",
    "plt.plot(tt, u_sim1.flatten(), label=\"NNet action\")\n",
    "plt.title(\"Starting pole position 1\")\n",
    "plt.legend()\n",
    "\n",
    "tt = dt*np.arange(0,500)\n",
    "plt.figure(figsize=(10,7))\n",
    "plt.plot(tt, u_lqr2.flatten(), label=\"LQR action\")\n",
    "plt.plot(tt, u_sim2.flatten(), label=\"NNet action\")\n",
    "plt.title(\"Starting pole position 2\")\n",
    "plt.legend()\n",
    "\n",
    "tt = dt*np.arange(0,500)\n",
    "plt.figure(figsize=(10,7))\n",
    "plt.plot(tt, u_sim3.flatten(), label=\"NNet action\")\n",
    "plt.title(\"Test position\")\n",
    "plt.legend()\n",
    "\n",
    "print \"Final position for starting position x1\"\n",
    "print x_sim1[:,-1]\n",
    "print \"Final position for starting position x2\"\n",
    "print x_sim2[:,-1]\n",
    "print \"Final position for test starting position\"\n",
    "print x_sim3[:,-1]\n"
   ]
  },
  {
   "cell_type": "code",
   "execution_count": 59,
   "metadata": {
    "collapsed": false
   },
   "outputs": [
    {
     "data": {
      "text/plain": [
       "array([  0.        ,   3.14159265,   0.        ,   0.        ,\n",
       "        10.        ,   1.        ])"
      ]
     },
     "execution_count": 59,
     "metadata": {},
     "output_type": "execute_result"
    }
   ],
   "source": [
    "xref1"
   ]
  },
  {
   "cell_type": "code",
   "execution_count": 46,
   "metadata": {
    "collapsed": false
   },
   "outputs": [
    {
     "name": "stdout",
     "output_type": "stream",
     "text": [
      "1: 2.89299507745     2.89325658065     3.33672396594     3.3370777     nan     nan     \n",
      "2: 3.01119307102     3.05338930806     3.03237116306     3.22356483002     3.22356483002     3.25704534041     \n",
      "3: 3.03191509299     3.26850644406     3.14143779106     3.23356520337     3.2589156958     2.99793563862     \n",
      "4: 3.23451953919     3.23892548518     3.07637463657     3.04934655371     3.04200043265     3.04934652769     \n",
      "5: 3.14159344575     3.14159383478     3.14159396314     3.14159446746     3.14159358169     3.14159328744     \n",
      "6: 3.14923111854     3.27211733746     3.2518047412     3.05398335402     2.9965589963     3.10711853808     \n",
      "7: 3.29238909884     3.09695165672     3.03139037294     2.97450128901     3.27310906224     3.157600078     \n",
      "8: 3.30163161466     3.22736170945     3.280029842     3.31493070287     3.02771884238     3.09666211207     \n",
      "9: 2.97570177964     2.97440347397     2.97727130522     2.96893312483     3.32451611641     3.10525748598     \n",
      "10: 3.27842800633     3.20526065267     3.34601291738     2.94021292344     3.01699454428     3.05439961013     \n",
      "11: 3.12209636158     3.1446975713     3.15421276792     3.1279044244     3.10901593751     3.12093316153     \n",
      "12: 3.1415737469     3.14159546134     3.14162612946     3.14167810378     3.14167236502     3.14150627716     \n",
      "13: 3.14158828218     3.14159597625     3.14160038517     3.14156007686     3.14149496022     3.14145210972     \n",
      "14: 3.14159226047     3.14159466478     3.14159546689     3.14150186374     3.14149599215     3.14170182349     \n",
      "15: 3.14089939398     3.14263206371     3.1405101985     3.14227107757     3.14020881521     3.14188238864     \n",
      "16: 3.15692156888     3.155133836     3.14265643381     3.14400248616     3.13754880532     3.14987239896     \n",
      "17: 3.12220890959     3.13342979192     3.10851826856     3.14089386827     3.14177206722     3.14188107918     \n",
      "18: 3.25426985849     3.14158822994     3.14161729799     3.14167658639     3.14169113417     3.14139302805     \n",
      "19: 3.14158734407     3.14157080331     3.14160587973     3.14160056321     3.14160269847     3.14160164777     \n",
      "20: nan     3.14263181036     3.14146007811     3.141597415     3.14159910864     3.14159507505     \n",
      "21: nan     3.14161799835     3.14159174693     3.14159447095     3.14159585808     nan     \n",
      "22: nan     3.14159072735     3.1415928734     3.14159287718     3.14159343481     517.245811551     \n",
      "23: nan     nan     3.14159309571     3.14159249162     3.1415926128     596.729179998     \n",
      "24: nan     nan     nan     3.141592574     3.1415925746     nan     \n",
      "25: nan     nan     nan     3.14159264113     3.14159263295     nan     \n",
      "26: nan     nan     nan     3.141592653     nan     nan     \n",
      "27: nan     nan     nan     3.1415926536     525.49074567     nan     \n",
      "28: nan     nan     nan     nan     nan     nan     \n",
      "29: nan     nan     nan     nan     nan     nan     \n",
      "30: 598.621426723     nan     nan     638.604378392     nan     nan     \n"
     ]
    }
   ],
   "source": [
    "for i in np.arange(1,31,1):\n",
    "    out = \"%i: \" % i\n",
    "    for j in [np.pi - np.pi/4, np.pi - np.pi/5, np.pi - np.pi/6, \n",
    "              np.pi + np.pi/6, np.pi + np.pi/5, np.pi + np.pi/4]:\n",
    "        x_sim4 = np.zeros([6,500])\n",
    "        x_sim4[:,0] = np.array([0, np.pi - np.pi/5, 0, 0, i, i/10.])\n",
    "\n",
    "        u_sim4 = np.zeros([500,])\n",
    "        u_sim4[0] = feed_forward(x_sim4[:,0].reshape([1,6]))\n",
    "\n",
    "        for t in range(499):\n",
    "            x_sim4[:,t+1] = cp.sim_cartpole_ext(x_sim4[:,t], u_sim4[t], dt)\n",
    "            u_sim4[t+1] = feed_forward(x_sim4[:,t+1].reshape([1,6]))\n",
    "        out = out+ x_sim4[1,-1]\n",
    "        out =  \"     \"\n",
    "    print out"
   ]
  },
  {
   "cell_type": "code",
   "execution_count": 72,
   "metadata": {
    "collapsed": false
   },
   "outputs": [
    {
     "ename": "TypeError",
     "evalue": "isinstance() arg 2 must be a class, type, or tuple of classes and types",
     "output_type": "error",
     "traceback": [
      "\u001b[0;31m---------------------------------------------------------------------------\u001b[0m",
      "\u001b[0;31mTypeError\u001b[0m                                 Traceback (most recent call last)",
      "\u001b[0;32m<ipython-input-72-5d0b57d698ca>\u001b[0m in \u001b[0;36m<module>\u001b[0;34m()\u001b[0m\n\u001b[0;32m----> 1\u001b[0;31m \u001b[0misinstance\u001b[0m\u001b[0;34m(\u001b[0m\u001b[0mnp\u001b[0m\u001b[0;34m.\u001b[0m\u001b[0mnan\u001b[0m\u001b[0;34m,\u001b[0m \u001b[0mnp\u001b[0m\u001b[0;34m.\u001b[0m\u001b[0mnan\u001b[0m\u001b[0;34m)\u001b[0m\u001b[0;34m\u001b[0m\u001b[0m\n\u001b[0m",
      "\u001b[0;31mTypeError\u001b[0m: isinstance() arg 2 must be a class, type, or tuple of classes and types"
     ]
    }
   ],
   "source": [
    "isinstance(np.nan, np.nan)"
   ]
  },
  {
   "cell_type": "code",
   "execution_count": 70,
   "metadata": {
    "collapsed": false
   },
   "outputs": [
    {
     "name": "stdout",
     "output_type": "stream",
     "text": [
      "1: nan nan nan nan nan nan nan nan nan nan nan nan nan nan nan nan nan 3.0 3.0 3.0 3.0 3.0 3.0 3.0 3.0 3.0 3.0 3.0 3.0 3.0 3.0 3.0 3.0 3.0 3.0 3.0 3.0 \n",
      "2: nan nan nan nan nan nan nan nan 3.0 3.0 3.0 3.0 3.0 3.0 3.0 3.0 3.0 3.0 3.0 3.0 3.0 3.0 3.0 3.0 3.0 3.0 3.0 3.0 3.0 3.0 3.0 3.0 3.0 3.0 3.0 3.0 3.0 \n",
      "3: nan nan nan nan nan 3.0 3.0 3.0 3.0 3.0 3.0 3.0 3.0 3.0 3.0 3.0 3.0 3.0 3.0 3.0 3.0 3.0 3.0 3.0 3.0 3.0 3.0 3.0 3.0 3.0 3.0 3.0 2.0 3.0 3.0 4.0 3.0 \n",
      "4: nan nan nan nan 3.0 3.0 3.0 3.0 3.0 3.0 3.0 3.0 3.0 3.0 3.0 3.0 3.0 3.0 3.0 3.0 3.0 3.0 3.0 3.0 3.0 3.0 3.0 3.0 4.0 3.0 3.0 nan nan nan nan nan nan \n",
      "5: nan nan nan 3.0 3.0 3.0 3.0 3.0 3.0 3.0 3.0 3.0 3.0 3.0 3.0 3.0 3.0 3.0 3.0 3.0 3.0 3.0 3.0 3.0 3.0 3.0 3.0 3.0 3.0 3.0 3.0 3.0 3.0 nan nan nan nan \n",
      "6: nan nan nan nan 3.0 3.0 3.0 3.0 3.0 3.0 3.0 3.0 3.0 3.0 3.0 3.0 3.0 3.0 3.0 3.0 3.0 3.0 3.0 3.0 3.0 3.0 3.0 3.0 3.0 257.0 3.0 3.0 nan nan nan nan nan \n",
      "7: nan nan nan 3.0 3.0 3.0 3.0 3.0 3.0 3.0 3.0 3.0 3.0 3.0 3.0 3.0 3.0 3.0 3.0 3.0 3.0 3.0 3.0 3.0 3.0 3.0 3.0 3.0 3.0 3.0 3.0 3.0 3.0 nan 713.0 nan nan \n",
      "8: nan nan nan 3.0 3.0 3.0 3.0 3.0 3.0 3.0 3.0 3.0 3.0 3.0 3.0 3.0 3.0 3.0 3.0 3.0 3.0 3.0 3.0 3.0 3.0 3.0 3.0 3.0 3.0 3.0 3.0 nan nan nan 717.0 nan nan \n",
      "9: nan nan 3.0 3.0 3.0 3.0 3.0 3.0 3.0 3.0 3.0 3.0 3.0 3.0 3.0 3.0 3.0 3.0 3.0 3.0 3.0 3.0 3.0 3.0 3.0 3.0 3.0 3.0 3.0 3.0 nan nan nan nan nan 643.0 nan \n",
      "10: nan nan 3.0 3.0 3.0 3.0 3.0 3.0 3.0 3.0 3.0 3.0 3.0 3.0 3.0 3.0 3.0 3.0 3.0 3.0 3.0 3.0 3.0 3.0 3.0 3.0 3.0 3.0 3.0 3.0 nan nan 645.0 nan nan nan nan \n",
      "11: nan nan 3.0 3.0 3.0 3.0 3.0 3.0 3.0 3.0 3.0 3.0 3.0 3.0 3.0 3.0 3.0 3.0 3.0 3.0 3.0 3.0 3.0 3.0 3.0 3.0 3.0 3.0 3.0 nan nan nan 664.0 nan nan nan nan \n",
      "12: nan 3.0 3.0 3.0 3.0 3.0 3.0 3.0 3.0 3.0 3.0 3.0 3.0 3.0 3.0 3.0 3.0 3.0 3.0 3.0 3.0 3.0 3.0 3.0 3.0 3.0 3.0 3.0 nan nan nan nan nan nan nan nan nan \n",
      "13: nan 3.0 3.0 3.0 3.0 3.0 3.0 3.0 3.0 3.0 3.0 3.0 3.0 3.0 3.0 3.0 3.0 3.0 3.0 3.0 3.0 3.0 3.0 3.0 3.0 3.0 3.0 3.0 nan nan nan nan nan nan nan nan nan \n",
      "14: nan nan 3.0 3.0 3.0 3.0 3.0 3.0 3.0 3.0 3.0 3.0 3.0 3.0 3.0 3.0 3.0 3.0 3.0 3.0 3.0 3.0 3.0 3.0 3.0 3.0 3.0 nan nan 657.0 589.0 nan nan nan nan nan nan \n",
      "15: nan nan 3.0 3.0 3.0 3.0 3.0 3.0 3.0 3.0 3.0 3.0 3.0 3.0 3.0 3.0 3.0 3.0 3.0 3.0 3.0 3.0 3.0 3.0 3.0 3.0 3.0 1186.0 nan nan 602.0 716.0 nan nan nan nan nan \n",
      "16: nan nan 3.0 3.0 3.0 3.0 3.0 3.0 3.0 3.0 3.0 3.0 3.0 3.0 3.0 3.0 3.0 3.0 3.0 3.0 3.0 3.0 3.0 3.0 550.0 nan nan nan nan nan nan nan nan nan nan nan nan \n",
      "17: nan nan 3.0 3.0 3.0 3.0 3.0 3.0 3.0 3.0 3.0 3.0 3.0 3.0 3.0 3.0 3.0 3.0 3.0 3.0 3.0 3.0 3.0 nan nan 543.0 nan 595.0 nan 1016.0 nan nan nan nan nan 793.0 630.0 \n",
      "18: nan nan 3.0 3.0 3.0 3.0 3.0 3.0 3.0 3.0 3.0 3.0 3.0 3.0 3.0 3.0 3.0 3.0 3.0 3.0 3.0 nan nan nan nan nan nan nan nan nan nan nan nan nan 611.0 nan nan \n",
      "19: nan nan 3.0 3.0 3.0 3.0 3.0 3.0 3.0 3.0 3.0 3.0 3.0 3.0 3.0 3.0 3.0 3.0 3.0 498.0 697.0 nan nan 714.0 nan nan nan nan nan nan nan nan nan nan nan nan nan \n",
      "20: nan nan 3.0 3.0 3.0 3.0 3.0 3.0 3.0 3.0 3.0 3.0 3.0 3.0 3.0 3.0 3.0 nan nan 693.0 nan 562.0 nan nan 680.0 724.0 nan nan nan nan nan nan nan nan nan nan nan \n",
      "21: nan nan 3.0 3.0 3.0 3.0 3.0 3.0 3.0 3.0 3.0 3.0 nan nan nan nan nan nan nan nan nan nan nan nan 531.0 nan 652.0 745.0 nan nan nan nan nan nan nan nan nan \n"
     ]
    }
   ],
   "source": [
    "for i in np.arange(1,22,1):\n",
    "    out = \"%i: \" % i\n",
    "    for j in np.arange(-0.90, 0.95, 0.05): # percentage error in mass estimation\n",
    "        i_adj = (1+j)*i\n",
    "        x_sim4 = np.zeros([6,500])\n",
    "        x_sim4_real = np.zeros([6,500])\n",
    "        x_sim4[:,0] = np.array([0, np.pi - np.pi/4, 0, 0, i, i/10.])\n",
    "        x_sim4_real[:,0] = np.array(x_sim4[:,0])\n",
    "        x_sim4_real[-2,0] = i_adj\n",
    "        x_sim4_real[-1,0] = i_adj/10.\n",
    "\n",
    "        u_sim4 = np.zeros([500,])\n",
    "        u_sim4[0] = feed_forward(x_sim4[:,0].reshape([1,6]))\n",
    "\n",
    "        for t in range(499):\n",
    "            x_sim4_real[:,t+1] = cp.sim_cartpole_ext(x_sim4_real[:,t], u_sim4[t], dt)\n",
    "            x_sim4[:,t+1] = np.array([x_sim4_real[:,t+1]])\n",
    "            x_sim4[-2,t+1] = i\n",
    "            x_sim4[-1,t+1] = i/10.\n",
    "            u_sim4[t+1] = feed_forward(x_sim4[:,t+1].reshape([1,6]))\n",
    "        out = out + str(round(x_sim4[1,-1]))\n",
    "        out = out+ \" \"\n",
    "    print out"
   ]
  },
  {
   "cell_type": "code",
   "execution_count": 65,
   "metadata": {
    "collapsed": false
   },
   "outputs": [
    {
     "name": "stdout",
     "output_type": "stream",
     "text": [
      "-0.950000: nan\n",
      "-0.900000: nan\n",
      "-0.850000: nan\n",
      "-0.800000: nan\n",
      "-0.750000: 2.130000\n",
      "-0.700000: 2.600000\n",
      "-0.650000: 3.140000\n",
      "-0.600000: 3.140000\n",
      "-0.550000: 3.140000\n",
      "-0.500000: 3.140000\n",
      "-0.450000: 3.140000\n",
      "-0.400000: 3.140000\n",
      "-0.350000: 3.140000\n",
      "-0.300000: 3.140000\n",
      "-0.250000: 3.140000\n",
      "-0.200000: 3.140000\n",
      "-0.150000: 3.140000\n",
      "-0.100000: 3.140000\n",
      "-0.050000: 3.140000\n",
      "0.000000: 3.140000\n",
      "0.050000: 3.140000\n",
      "0.100000: 3.140000\n",
      "0.150000: 3.140000\n",
      "0.200000: 3.140000\n",
      "0.250000: 3.140000\n",
      "0.300000: 3.140000\n",
      "0.350000: 3.140000\n",
      "0.400000: 3.140000\n",
      "0.450000: nan\n",
      "0.500000: nan\n",
      "0.550000: nan\n",
      "0.600000: nan\n",
      "0.650000: nan\n",
      "0.700000: nan\n",
      "0.750000: nan\n"
     ]
    }
   ],
   "source": [
    "for j in np.arange(-0.95, 0.80, 0.05): # percentage error in mass estimation\n",
    "    real_mass = (1+j)*10\n",
    "    x_sim4 = np.zeros([6,500])\n",
    "    x_sim4[:,0] = np.array([0, np.pi + np.pi/4, 0, 0, real_mass, real_mass/10.])\n",
    "\n",
    "    u_sim4 = np.zeros([500,])\n",
    "    u_sim4[0] = feed_forward(x_sim4[:,0].reshape([1,6]))\n",
    "\n",
    "    for t in range(499):\n",
    "        x_sim4[:,t+1] = cp.sim_cartpole_ext(x_sim4[:,t], u_sim4[t], dt)\n",
    "        u_sim4[t+1] = np.dot(K1, x_sim4[:,t+1] - xref1)\n",
    "    print \"%f: %f\" % (j, round(x_sim4[1,-1],2))"
   ]
  },
  {
   "cell_type": "code",
   "execution_count": 56,
   "metadata": {
    "collapsed": false
   },
   "outputs": [
    {
     "data": {
      "text/plain": [
       "array([[   0.66825241, -198.9260786 ,    3.6267969 ,  -43.03913635,\n",
       "          -0.        ,   -0.        ]])"
      ]
     },
     "execution_count": 56,
     "metadata": {},
     "output_type": "execute_result"
    }
   ],
   "source": [
    "K1"
   ]
  },
  {
   "cell_type": "code",
   "execution_count": 48,
   "metadata": {
    "collapsed": false
   },
   "outputs": [
    {
     "data": {
      "text/plain": [
       "array([ 0.05,  0.1 ,  0.15,  0.2 ,  0.25,  0.3 ,  0.35,  0.4 ,  0.45])"
      ]
     },
     "execution_count": 48,
     "metadata": {},
     "output_type": "execute_result"
    }
   ],
   "source": [
    "np.arange(0.05, 0.5, 0.05)"
   ]
  },
  {
   "cell_type": "code",
   "execution_count": 47,
   "metadata": {
    "collapsed": true
   },
   "outputs": [],
   "source": [
    "# Save that controller\n",
    "with open('crobot_controller1.pickle', 'wb') as output_file:\n",
    "    pickle.dump(policy3, output_file)"
   ]
  },
  {
   "cell_type": "code",
   "execution_count": 110,
   "metadata": {
    "collapsed": true
   },
   "outputs": [],
   "source": [
    "xref6 = np.array([0,np.pi,0,0,25,2.5])\n",
    "A6, B6, c6 = cp.linearize_cartpole_ext(xref6, uref, dt, eps)\n",
    "K6, P6, Quu6 = cp.lqr_infinite_horizon(A6, B6, Q, R)\n",
    "\n",
    "xref7 = np.array([0,np.pi,0,0,30,3.0])\n",
    "A7, B7, c7 = cp.linearize_cartpole_ext(xref7, uref, dt, eps)\n",
    "K7, P7, Quu7 = cp.lqr_infinite_horizon(A7, B7, Q, R)\n",
    "\n",
    "xref8 = np.array([0,np.pi,0,0,40,4.0])\n",
    "A8, B8, c8 = cp.linearize_cartpole_ext(xref8, uref, dt, eps)\n",
    "K8, P8, Quu8 = cp.lqr_infinite_horizon(A8, B8, Q, R)\n",
    "\n",
    "xref9 = np.array([0,np.pi,0,0,50,5.0])\n",
    "A9, B9, c9 = cp.linearize_cartpole_ext(xref9, uref, dt, eps)\n",
    "K9, P9, Quu9 = cp.lqr_infinite_horizon(A9, B9, Q, R)\n",
    "\n",
    "xref10 = np.array([0,np.pi,0,0,60,6.0])\n",
    "A10, B10, c10 = cp.linearize_cartpole_ext(xref10, uref, dt, eps)\n",
    "K10, P10, Quu10 = cp.lqr_infinite_horizon(A10, B10, Q, R)\n",
    "\n",
    "x11 = np.array([0, np.pi - np.pi/4, 0, 0, 25, 2.5])\n",
    "x12 = np.array([0, np.pi + np.pi/4, 0, 0, 25, 2.5])\n",
    "\n",
    "x13 = np.array([0, np.pi - np.pi/4, 0, 0, 30, 3.0])\n",
    "x14 = np.array([0, np.pi + np.pi/4, 0, 0, 30, 3.0])\n",
    "\n",
    "x15 = np.array([0, np.pi - np.pi/4, 0, 0, 40, 4.0])\n",
    "x16 = np.array([0, np.pi + np.pi/4, 0, 0, 40, 4.0])\n",
    "\n",
    "x17 = np.array([0, np.pi - np.pi/4, 0, 0, 50, 5.0])\n",
    "x18 = np.array([0, np.pi + np.pi/4, 0, 0, 50, 5.0])\n",
    "\n",
    "x19 = np.array([0, np.pi - np.pi/4, 0, 0, 60, 6.0])\n",
    "x20 = np.array([0, np.pi + np.pi/4, 0, 0, 60, 6.0])"
   ]
  },
  {
   "cell_type": "code",
   "execution_count": 109,
   "metadata": {
    "collapsed": false
   },
   "outputs": [
    {
     "data": {
      "text/plain": [
       "array([ 0.        ,  3.92699082,  0.        ,  0.        ,  6.        ,  6.        ])"
      ]
     },
     "execution_count": 109,
     "metadata": {},
     "output_type": "execute_result"
    }
   ],
   "source": [
    "x20"
   ]
  },
  {
   "cell_type": "code",
   "execution_count": 111,
   "metadata": {
    "collapsed": true
   },
   "outputs": [],
   "source": [
    "tr_x, tr_u, val_x, val_u, te_x, te_u = cp.gen_train_data(\n",
    "    [x1, x2, x3, x4, x5, x6, x7, x8, x9, x10, x11, x12, x13, x14, x15, x16, x17, x18, x19, x20], \n",
    "    [K1, K1, K2, K2, K3, K3, K4, K4, K5, K5, K6, K6, K7, K7, K8, K8, K9, K9, K10, K10], \n",
    "    [Quu1, Quu1, Quu2, Quu2, Quu3, Quu3, Quu4, Quu4, Quu5, Quu5, \n",
    "     Quu6, Quu6, Quu7, Quu7, Quu8, Quu8, Quu9, Quu9, Quu10, Quu10], \n",
    "    num_traj=20, traj_size=500)\n"
   ]
  },
  {
   "cell_type": "code",
   "execution_count": null,
   "metadata": {
    "collapsed": false
   },
   "outputs": [
    {
     "name": "stdout",
     "output_type": "stream",
     "text": [
      "... building the model\n",
      "... training"
     ]
    }
   ],
   "source": [
    "input4, policy4, tr_loss4, val_loss4, test_loss4 = nnet.train_NN(\n",
    "    tr_x, tr_u, val_x, val_u, te_x, te_u, # Training, validiation, and test data\n",
    "    n_layers=1, n_hidden=50, # Nnet parameters\n",
    "    learning_rule='rmsprop', learning_rate=0.001, L1_reg=0., L2_reg=0.00001, batch_size=25, rho=0.95, #SGD parameters\n",
    "    n_epochs=5000, print_interval=50, random_order=True # Training parameters\n",
    ")"
   ]
  },
  {
   "cell_type": "code",
   "execution_count": null,
   "metadata": {
    "collapsed": true
   },
   "outputs": [],
   "source": [
    "lr_table = {0.01:[2695, 2648, 7302], 0.02:[5048, 1647, 2592], 0.001: [2835,7379, 4456], \n",
    " 0.002: [7775, 6988, 3149], 0.005: [3053, 2265, 12458], 0.0001:[152182, 142120], 0.0005:[50889, 66356]}\n",
    "\n",
    "L2_reg_table = {0.01:[3337, 3967, 2544], 0.001:[6895, 3080, 6626], 0.0001:[1761, 5542, 1910], \n",
    "                0.00001:[6228, 6129, 3412]}\n",
    "\n",
    "batch_size_table = {10:[958, 848, 2773], 5:[1509], 20:[2814, 3268, 1170], 50:[2213, 4026, 1910], 200: [6070, 7917, 4974]}\n",
    "\n",
    "rho_table = {0.8: [2207, 3103, 7137], 0.95:[4073, 2084, 2011], 0.99:[1382, 3074, 3260], 0.999:[7028, 1465, 4769]}"
   ]
  }
 ],
 "metadata": {
  "kernelspec": {
   "display_name": "Python 2",
   "language": "python",
   "name": "python2"
  },
  "language_info": {
   "codemirror_mode": {
    "name": "ipython",
    "version": 2
   },
   "file_extension": ".py",
   "mimetype": "text/x-python",
   "name": "python",
   "nbconvert_exporter": "python",
   "pygments_lexer": "ipython2",
   "version": "2.7.9"
  }
 },
 "nbformat": 4,
 "nbformat_minor": 0
}
