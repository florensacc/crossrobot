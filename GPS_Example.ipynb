{
 "cells": [
  {
   "cell_type": "code",
   "execution_count": 1,
   "metadata": {
    "collapsed": false
   },
   "outputs": [],
   "source": [
    "############\n",
    "# PACKAGES #\n",
    "############\n",
    "\n",
    "%matplotlib inline\n",
    "import numpy as np\n",
    "import theano\n",
    "import theano.tensor as T\n",
    "theano.config.exception_verbosity='high'\n",
    "import scipy as sp\n",
    "import matplotlib.pyplot as plt\n",
    "import matplotlib.mlab as mlab\n",
    "import cPickle as pickle\n",
    "import gzip\n",
    "import os\n",
    "import sys\n",
    "import timeit\n",
    "\n",
    "import cartpole_lib as cp\n",
    "\n",
    "import nnet_lib as nnet\n"
   ]
  },
  {
   "cell_type": "code",
   "execution_count": 2,
   "metadata": {
    "collapsed": true
   },
   "outputs": [],
   "source": [
    "#################\n",
    "# GENERATE DATA #\n",
    "#################\n",
    "\n",
    "dt, eps = 0.1, 0.1\n",
    "Q = np.eye(6)\n",
    "R = np.eye(1)\n",
    "\n",
    "xref1 = np.array([0,np.pi,0,0,10,1])\n",
    "uref = 0.\n",
    "A1, B1, c1 = cp.linearize_cartpole_ext(xref1, uref, dt, eps)\n",
    "K1, P1, Quu1 = cp.lqr_infinite_horizon(A1, B1, Q, R)\n",
    "\n",
    "x1 = np.array([0, np.pi - np.pi/4, 0, 0, 10, 1])\n",
    "x2 = np.array([0, np.pi + np.pi/4, 0, 0, 10, 1])\n",
    "\n",
    "tr_x, tr_u, val_x, val_u, te_x, te_u = cp.gen_train_data([x1, x2], [K1, K1], [Quu1, Quu1], \n",
    "                                                         num_traj=20, traj_size=500)"
   ]
  },
  {
   "cell_type": "code",
   "execution_count": 3,
   "metadata": {
    "collapsed": false
   },
   "outputs": [
    {
     "name": "stdout",
     "output_type": "stream",
     "text": [
      "... building the model\n",
      "... training\n",
      "epoch 5, minibatch 400/400, validation error 87.217713, test error of best model 88.558621\n",
      "epoch 10, minibatch 400/400, validation error 45.972522, test error of best model 54.250318\n",
      "epoch 15, minibatch 400/400, validation error 27.575801, test error of best model 41.160175\n",
      "epoch 20, minibatch 400/400, validation error 23.034971, test error of best model 40.278615\n",
      "epoch 25, minibatch 400/400, validation error 19.420065, test error of best model 38.001070\n",
      "epoch 30, minibatch 400/400, validation error 15.772440, test error of best model 37.003862\n",
      "epoch 35, minibatch 400/400, validation error 10.643292, test error of best model 32.709343\n",
      "epoch 40, minibatch 400/400, validation error 8.499124, test error of best model 31.216213\n",
      "epoch 45, minibatch 400/400, validation error 7.319509, test error of best model 30.532346\n",
      "epoch 50, minibatch 400/400, validation error 5.685577, test error of best model 30.086557\n",
      "epoch 55, minibatch 400/400, validation error 5.164915, test error of best model 30.053793\n",
      "epoch 60, minibatch 400/400, validation error 4.878648, test error of best model 29.897060\n",
      "epoch 65, minibatch 400/400, validation error 4.704642, test error of best model 29.812773\n",
      "epoch 70, minibatch 400/400, validation error 4.595443, test error of best model 29.768642\n",
      "epoch 75, minibatch 400/400, validation error 4.518012, test error of best model 29.730747\n",
      "epoch 80, minibatch 400/400, validation error 4.472184, test error of best model 29.711396\n",
      "epoch 85, minibatch 400/400, validation error 4.424846, test error of best model 29.676444\n",
      "epoch 90, minibatch 400/400, validation error 4.391530, test error of best model 29.656895\n",
      "epoch 95, minibatch 400/400, validation error 4.365681, test error of best model 29.643021\n",
      "epoch 100, minibatch 400/400, validation error 4.344576, test error of best model 29.631546\n",
      "Optimization complete. Best validation score of 4.344576 obtained at iteration 40000, with test performance 29.631546\n",
      "The code ran for 100 epochs, with 3.831776 epochs/sec\n"
     ]
    }
   ],
   "source": [
    "####################\n",
    "# TRAIN BASIC NNET #\n",
    "####################\n",
    "\n",
    "input1, policy1, tr_loss1, val_loss1, test_loss1 = nnet.train_NN(\n",
    "    tr_x, tr_u, val_x, val_u, te_x, te_u, # Training, validiation, and test data\n",
    "    n_layers=1, n_hidden=15, # Nnet parameters\n",
    "    learning_rule='adagrad', learning_rate=1.0, L1_reg=0.0, L2_reg=0.00001, batch_size=50, rho=0.9, #SGD parameters\n",
    "    n_epochs=100, print_interval=5, random_order=True # Training parameters\n",
    ")"
   ]
  },
  {
   "cell_type": "code",
   "execution_count": 4,
   "metadata": {
    "collapsed": false
   },
   "outputs": [
    {
     "ename": "NameError",
     "evalue": "name 'x_lqr' is not defined",
     "output_type": "error",
     "traceback": [
      "\u001b[0;31m---------------------------------------------------------------------------\u001b[0m",
      "\u001b[0;31mNameError\u001b[0m                                 Traceback (most recent call last)",
      "\u001b[0;32m<ipython-input-4-06cb5f7e2332>\u001b[0m in \u001b[0;36m<module>\u001b[0;34m()\u001b[0m\n\u001b[1;32m     24\u001b[0m \u001b[0;34m\u001b[0m\u001b[0m\n\u001b[1;32m     25\u001b[0m \u001b[0mu_lqr1\u001b[0m \u001b[0;34m=\u001b[0m \u001b[0mnp\u001b[0m\u001b[0;34m.\u001b[0m\u001b[0mzeros\u001b[0m\u001b[0;34m(\u001b[0m\u001b[0;34m[\u001b[0m\u001b[0;36m500\u001b[0m\u001b[0;34m,\u001b[0m\u001b[0;34m]\u001b[0m\u001b[0;34m)\u001b[0m\u001b[0;34m\u001b[0m\u001b[0m\n\u001b[0;32m---> 26\u001b[0;31m \u001b[0mu_lqr1\u001b[0m\u001b[0;34m[\u001b[0m\u001b[0;36m0\u001b[0m\u001b[0;34m]\u001b[0m \u001b[0;34m=\u001b[0m \u001b[0mnp\u001b[0m\u001b[0;34m.\u001b[0m\u001b[0mdot\u001b[0m\u001b[0;34m(\u001b[0m\u001b[0mK1\u001b[0m\u001b[0;34m,\u001b[0m \u001b[0mx_lqr\u001b[0m\u001b[0;34m[\u001b[0m\u001b[0;34m:\u001b[0m\u001b[0;34m,\u001b[0m\u001b[0;36m0\u001b[0m\u001b[0;34m]\u001b[0m \u001b[0;34m-\u001b[0m \u001b[0mx_ref\u001b[0m\u001b[0;34m)\u001b[0m\u001b[0;34m\u001b[0m\u001b[0m\n\u001b[0m\u001b[1;32m     27\u001b[0m \u001b[0;32mfor\u001b[0m \u001b[0mt\u001b[0m \u001b[0;32min\u001b[0m \u001b[0mrange\u001b[0m\u001b[0;34m(\u001b[0m\u001b[0;36m499\u001b[0m\u001b[0;34m)\u001b[0m\u001b[0;34m:\u001b[0m\u001b[0;34m\u001b[0m\u001b[0m\n\u001b[1;32m     28\u001b[0m     \u001b[0mx_lqr1\u001b[0m\u001b[0;34m[\u001b[0m\u001b[0;34m:\u001b[0m\u001b[0;34m,\u001b[0m\u001b[0mt\u001b[0m\u001b[0;34m+\u001b[0m\u001b[0;36m1\u001b[0m\u001b[0;34m]\u001b[0m \u001b[0;34m=\u001b[0m \u001b[0mcp\u001b[0m\u001b[0;34m.\u001b[0m\u001b[0msim_cartpole_ext\u001b[0m\u001b[0;34m(\u001b[0m\u001b[0mx_lqr1\u001b[0m\u001b[0;34m[\u001b[0m\u001b[0;34m:\u001b[0m\u001b[0;34m,\u001b[0m\u001b[0mt\u001b[0m\u001b[0;34m]\u001b[0m\u001b[0;34m,\u001b[0m \u001b[0mu_lqr1\u001b[0m\u001b[0;34m[\u001b[0m\u001b[0mt\u001b[0m\u001b[0;34m]\u001b[0m\u001b[0;34m,\u001b[0m \u001b[0mdt\u001b[0m\u001b[0;34m)\u001b[0m\u001b[0;34m\u001b[0m\u001b[0m\n",
      "\u001b[0;31mNameError\u001b[0m: name 'x_lqr' is not defined"
     ]
    }
   ],
   "source": [
    "####################\n",
    "# TEST NNET POLICY #\n",
    "####################\n",
    "\n",
    "feed_forward = theano.function(\n",
    "    inputs=[input1],\n",
    "    outputs=policy1.output)\n",
    "\n",
    "x_ref = np.array([0, np.pi, 0, 0, 10, 1])\n",
    "\n",
    "# First starting position\n",
    "x_sim1 = np.zeros([6,500])\n",
    "x_sim1[:,0] = x1\n",
    "\n",
    "u_sim1 = np.zeros([500,])\n",
    "u_sim1[0] = feed_forward(x_sim1[:,0].reshape([1,6]))\n",
    "\n",
    "for t in range(499):\n",
    "    x_sim1[:,t+1] = cp.sim_cartpole_ext(x_sim1[:,t], u_sim1[t], dt)\n",
    "    u_sim1[t+1] = feed_forward(x_sim1[:,t+1].reshape([1,6]))\n",
    "\n",
    "x_lqr1 = np.zeros([6,500])\n",
    "x_lqr1[:,0] = x1\n",
    "\n",
    "u_lqr1 = np.zeros([500,])\n",
    "u_lqr1[0] = np.dot(K1, x_lqr[:,0] - x_ref)\n",
    "for t in range(499):\n",
    "    x_lqr1[:,t+1] = cp.sim_cartpole_ext(x_lqr1[:,t], u_lqr1[t], dt)\n",
    "    u_lqr1[t+1] = np.dot(K1, x_lqr1[:,t] - x_ref)\n",
    "\n",
    "# Second starting position\n",
    "x_sim2 = np.zeros([6,500])\n",
    "x_sim2[:,0] = x2\n",
    "\n",
    "u_sim2 = np.zeros([500,])\n",
    "u_sim2[0] = feed_forward(x_sim2[:,0].reshape([1,6]))\n",
    "\n",
    "for t in range(499):\n",
    "    x_sim2[:,t+1] = cp.sim_cartpole_ext(x_sim2[:,t], u_sim2[t], dt)\n",
    "    u_sim2[t+1] = feed_forward(x_sim2[:,t+1].reshape([1,6]))\n",
    "\n",
    "x_lqr2 = np.zeros([6,500])\n",
    "x_lqr2[:,0] = x2\n",
    "\n",
    "u_lqr2 = np.zeros([500,])\n",
    "u_lqr2[0] = np.dot(K1, x_lqr2[:,0] - x_ref)\n",
    "for t in range(499):\n",
    "    x_lqr2[:,t+1] = cp.sim_cartpole_ext(x_lqr2[:,t], u_lqr2[t], dt)\n",
    "    u_lqr2[t+1] = np.dot(K1, x_lqr2[:,t] - x_ref)\n",
    "    \n",
    "tt = dt*np.arange(0,500)\n",
    "plt.figure(figsize=(10,7))\n",
    "plt.plot(tt, u_lqr1.flatten(), label=\"LQR action\")\n",
    "plt.plot(tt, u_sim1.flatten(), label=\"NNet action\")\n",
    "plt.title(\"Starting pole position pi - pi/4\")\n",
    "plt.legend()\n",
    "\n",
    "tt = dt*np.arange(0,500)\n",
    "plt.figure(figsize=(10,7))\n",
    "plt.plot(tt, u_lqr2.flatten(), label=\"LQR action\")\n",
    "plt.plot(tt, u_sim2.flatten(), label=\"NNet action\")\n",
    "plt.title(\"Starting pole position pi + pi/4\")\n",
    "plt.legend()\n",
    "\n",
    "print \"Final position for starting position x1\"\n",
    "print x_sim1[:,-1]\n",
    "print \"Final position for starting position x2\"\n",
    "print x_sim2[:,-1]"
   ]
  },
  {
   "cell_type": "code",
   "execution_count": null,
   "metadata": {
    "collapsed": true
   },
   "outputs": [],
   "source": []
  }
 ],
 "metadata": {
  "kernelspec": {
   "display_name": "Python 2",
   "language": "python",
   "name": "python2"
  },
  "language_info": {
   "codemirror_mode": {
    "name": "ipython",
    "version": 2
   },
   "file_extension": ".py",
   "mimetype": "text/x-python",
   "name": "python",
   "nbconvert_exporter": "python",
   "pygments_lexer": "ipython2",
   "version": "2.7.9"
  }
 },
 "nbformat": 4,
 "nbformat_minor": 0
}
