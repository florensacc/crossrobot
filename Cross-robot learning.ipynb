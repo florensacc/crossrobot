{
 "cells": [
  {
   "cell_type": "markdown",
   "metadata": {},
   "source": [
    "# Cross-Robot Learning"
   ]
  },
  {
   "cell_type": "markdown",
   "metadata": {},
   "source": [
    "One central neural net used to control multiple robots with varying characteristics\n",
    "\n",
    "###Levels of complexity\n",
    "- Multiple, identical robots, learning faster by sharing\n",
    "- Multiple, slightly different robots, still able to learn faster by sharing (obviously not as well)\n",
    "- Neural net to accept single-parameter identifier of robot under training and control\n",
    "- Neural net to accept multi-parameter characterization of robot under training and control (should be able to control new, pre-characterized robots without their own training data)\n",
    "- Neural net, after training on known robots, to characterize new robots and then control them\n",
    "- Neural net learns on its own how to parameterize characterization of initial robots it trains on\n",
    "\n",
    "###Neural net training (simple-->challenging):\n",
    "- start with optimal control trajectory generation\n",
    "- then guided policy search\n",
    "- eventually could try TRPO\n",
    "\n",
    "###Example scenarios to use (simple-->complex):\n",
    "- Pendulum (1-d.o.f.): balance, swing-up (e.g. vary length, mass)\n",
    "- Cart-pole (2-dof)\n",
    "- Helicopter (e.g. using trajopt to find many trajectories to train on)"
   ]
  },
  {
   "cell_type": "code",
   "execution_count": null,
   "metadata": {
    "collapsed": true
   },
   "outputs": [],
   "source": []
  }
 ],
 "metadata": {
  "kernelspec": {
   "display_name": "Python 3",
   "language": "python",
   "name": "python3"
  },
  "language_info": {
   "codemirror_mode": {
    "name": "ipython",
    "version": 3
   },
   "file_extension": ".py",
   "mimetype": "text/x-python",
   "name": "python",
   "nbconvert_exporter": "python",
   "pygments_lexer": "ipython3",
   "version": "3.4.3"
  }
 },
 "nbformat": 4,
 "nbformat_minor": 0
}
